{
 "cells": [
  {
   "cell_type": "code",
   "execution_count": null,
   "metadata": {
    "collapsed": true
   },
   "outputs": [],
   "source": [
    "#########################################################################################\n",
    "# Data Science Training Workshop: Using Jupyter Notebook and R (with a little Spark)\n",
    "# Presenters: Leslie McIntosh, PhD, MPH; Connie Zabarovskaya, MITM; Lorinette Wirth, MPH\n",
    "# \n",
    "# This script reads BREAST.txt data and parses into \"original_data\", which has 483,489 rows.\n",
    "# It limits data to diagnosis years 1973-2002 and only 21 variables seen in data_dictionary \n",
    "# The subset is saved as data_sample.\n",
    "# The script then creates the classification variable (survived) and \"cleans\" up the \n",
    "# rest of the variables for analysis. During the cleanup we also create one more \n",
    "# predictor variable based on Number of Positive Nodes (PN_PRESENT)\n",
    "#########################################################################################\n",
    "\n",
    "# SEER Research Data 1973-2013 -- ASCII Text Data:  Surveillance, Epidemiology, and End Results\n",
    "# (SEER) Program (www.seer.cancer.gov) Research Data (1973-2013), National Cancer Institute,\n",
    "# DCCPS, Surveillance Research Program, Surveillance Systems Branch, released April 2016,\n",
    "# based on the November 2015 submission.\n",
    "# see https://seer.cancer.gov/data/documentation.html"
   ]
  },
  {
   "cell_type": "code",
   "execution_count": null,
   "metadata": {
    "collapsed": false
   },
   "outputs": [],
   "source": [
    "# The three txt files below were prepared using Python, however, they can be prepared using another tool.\n",
    "# Create vector of var names and widths from Python output then cobine as data frame \n",
    "names<- scan(\"name.txt\", what=\"\",sep=\",\")\n",
    "width<-scan(\"width.txt\",what=\"\",sep=\",\")\n",
    "start<-scan(\"start.txt\",what=\"\",sep=\",\")\n",
    "\n",
    "start<-as.numeric(start)\n",
    "width<-as.numeric(width)\n",
    "names<-as.character(names)\n",
    "info<-data.frame(names,start,width)\n",
    "head(info)"
   ]
  },
  {
   "cell_type": "code",
   "execution_count": null,
   "metadata": {
    "collapsed": false
   },
   "outputs": [],
   "source": [
    "# THIS CELL WILL NOT BE RUN AT THE WORKSHOP, in order to save time.\n",
    "# If you downloaded the BREAST.TXT file, feel free to uncomment the code.\n",
    "\n",
    "# # read in breast.txt where each line is one record \n",
    "# read <- proc.time()\n",
    "# raw_data <- readLines(\"BREAST.TXT\")\n",
    "# paste0(\"read time: \")\n",
    "# proc.time() - read\n",
    "# \n",
    "# trans <- proc.time()\n",
    "# # function to split each line per start and end of each variable\n",
    "# parseFixedWidthFile <- function(data, data_dictionary){\n",
    "#   empty_df<- as.data.frame(matrix(0, ncol = 134, nrow = length(data)))\n",
    "#   for (i in 1:nrow(data_dictionary)) {\n",
    "#     newdata<-unlist(lapply(data,substr,data_dictionary$start[i],data_dictionary$start[i]+data_dictionary$width[i]-1))\n",
    "#     empty_df[i]<-newdata\n",
    "#   }\n",
    "#   empty_df\n",
    "# }\n",
    "# \n",
    "# original_data <- parseFixedWidthFile(raw_data, info)\n",
    "# # rename columns\n",
    "# names(original_data) <- info$names\n",
    "# paste0(\"transformation time: \")\n",
    "# proc.time() - trans\n",
    "# \n",
    "# save(original_data, file = \"original_data.rdata\" )"
   ]
  },
  {
   "cell_type": "code",
   "execution_count": null,
   "metadata": {
    "collapsed": false
   },
   "outputs": [],
   "source": [
    "load(\"original_data.rdata\")\n",
    "\n",
    "names(original_data)<-trimws(names(original_data))\n",
    "# Checking for empty string values\n",
    "paste0(\"Checking for empty string values\")\n",
    "table(original_data$YEAR_DX)\n",
    "original_data$YEAR_DX <- as.numeric(original_data$YEAR_DX)\n",
    "# limit to case dx between 1973 and 2002 \n",
    "data_sample <- original_data[original_data$YEAR_DX >= 1973 & original_data$YEAR_DX <= 2002,]\n",
    "# data_sample is 483489 rows"
   ]
  },
  {
   "cell_type": "code",
   "execution_count": null,
   "metadata": {
    "collapsed": true
   },
   "outputs": [],
   "source": [
    "keepVar<-c(\n",
    "  \"MAR_STAT\"     ,\n",
    "  \"RACE1V\"       ,\n",
    "  \"AGE_DX\"       ,\n",
    "  \"PRIMSITE\"     ,\n",
    "  \"GRADE\"        ,\n",
    "  \"EOD10_SZ\"     ,\n",
    "  \"EOD10_EX\"     , \n",
    "  \"EOD10_ND\"     ,\n",
    "  \"EOD10_PN\"     ,  \n",
    "  \"EOD10_NE\"     , \n",
    "  \"RADIATN\"      , \n",
    "  \"ADJAJCCSTG\"   ,  \n",
    "  \"SEQ_NUM\"      ,\n",
    "  \"HISTO3V\"      ,\n",
    "  \"BEHO3V\"       ,\n",
    "  \"SS_SURG\"      ,\n",
    "  \"SURGPRIF\"     ,\n",
    "  \"srv_time_mon\" ,\n",
    "  \"STAT_REC\"     ,\n",
    "  \"CODPUB\"       ,\n",
    "  \"PUBCSNUM\"     ,\n",
    "  \"REC_NO\"       \n",
    ") \n",
    "data_sample<-data_sample[,names(data_sample) %in% keepVar ]\n",
    "\n",
    "save(data_sample,file=\"data_sample.rdata\")"
   ]
  },
  {
   "cell_type": "code",
   "execution_count": null,
   "metadata": {
    "collapsed": false
   },
   "outputs": [],
   "source": [
    "# ON DOCKER: If you're not using conniez/all-spark-notebook image, uncomment the install command. \n",
    "# This needs to be run only once per container run (so the package is installed)\n",
    "# suppressWarnings(suppressMessages(install.packages(\"dplyr\", lib=\"/opt/conda/lib/R/library\", repo=\"http://cran.us.r-project.org\")))\n",
    "# ON ANACONDA: If you haven't yet installed dplyr package, uncomment this command\n",
    "# suppressWarnings(suppressMessages(install.packages(\"dplyr\", repo=\"http://cran.us.r-project.org\")))"
   ]
  },
  {
   "cell_type": "code",
   "execution_count": null,
   "metadata": {
    "collapsed": false
   },
   "outputs": [],
   "source": [
    "suppressWarnings(suppressMessages(library(dplyr)))\n",
    "load(\"data_sample.rdata\")\n",
    "\n",
    "# Recoding Survivability Variable\n",
    "\n",
    "# Cause of Death Codes downloaded with description and cancer, vs. non-cancer relatedness from here:\n",
    "# https://seer.cancer.gov/codrecode/1969+_d09172004/index.txt\n",
    "\n",
    "data_sample$srv_time_mon <- as.integer(data_sample$srv_time_mon)\n",
    "# Cause of Death - Breast Cancer code is 26000\n",
    "# Vital Status Recode (STAT_REC) Alive code is 1\n",
    "\n",
    "# assign survived variable value 1 - survived, 0 - not survived, NA - to be ignored\n",
    "# TO DO\n",
    "\n",
    "# Display number of records where survived is not missing (NA)\n",
    "paste0(\"Number of rows in data_sample\")\n",
    "# TO DO\n",
    "\n",
    "# Display survivability breakdown\n",
    "paste0(\"Distribution of survived variable\")\n",
    "# TO DO\n",
    "\n",
    "# Drop NA values\n",
    "# TO DO"
   ]
  },
  {
   "cell_type": "code",
   "execution_count": null,
   "metadata": {
    "collapsed": false
   },
   "outputs": [],
   "source": [
    "str(data_sample)"
   ]
  },
  {
   "cell_type": "code",
   "execution_count": null,
   "metadata": {
    "collapsed": false
   },
   "outputs": [],
   "source": [
    "# Identifying and Recoding Missing Values for Predictor Variables\n",
    "\n",
    "# Tumor Size\n",
    "# Remove values of tumor size >200mm in accordance with Paper by Delen et al.\n",
    "# Tumor size in Paper by Bellaachia and Guven: mean=20, sd=16, range=0-200\n",
    "# Checking for empty string values\n",
    "sort(unique(data_sample$EOD10_SZ))\n",
    "# There are values consisting of 3 spaces\n",
    "data_sample$EOD10_SZ[data_sample$EOD10_SZ %in% c('   ')] <- NA\n",
    "data_sample$EOD10_SZ <- as.integer(data_sample$EOD10_SZ)\n",
    "data_sample$EOD10_SZ[data_sample$EOD10_SZ > 200]<-NA\n",
    "EOD10_SZrange <- range(data_sample$EOD10_SZ,na.rm = T)\n",
    "paste0(\"Range: \",paste(EOD10_SZrange, collapse = \"-\"))\n",
    "EOD10_SZmean <- round(mean(data_sample$EOD10_SZ,na.rm = T), 2)\n",
    "paste0(\"Mean: \",EOD10_SZmean)\n",
    "EOD10_SZsd <- round(sd(data_sample$EOD10_SZ,na.rm = T),2)\n",
    "paste0(\"Standard Deviation: \",EOD10_SZsd)\n",
    "paste0(\"Number of records with missing or invalid tumor size\")\n",
    "table(is.na(data_sample$EOD10_SZ))"
   ]
  },
  {
   "cell_type": "code",
   "execution_count": null,
   "metadata": {
    "collapsed": false
   },
   "outputs": [],
   "source": [
    "# Age\n",
    "# Age in Paper by Bellaachia and Guven:mean=58, sd=13, range=10-110\n",
    "# Checking for empty string values\n",
    "sort(unique(data_sample$AGE_DX))\n",
    "data_sample$AGE_DX[data_sample$AGE_DX %in% c(999, ' ')] <- NA\n",
    "data_sample$AGE_DX<- as.integer(data_sample$AGE_DX)\n",
    "AGE_DXrange <- range(data_sample$AGE_DX,na.rm = T)\n",
    "paste0(\"Range: \",paste(AGE_DXrange, collapse = \"-\"))\n",
    "AGE_DXmean <- round(mean(data_sample$AGE_DX,na.rm = T),2)\n",
    "paste0(\"Mean: \",AGE_DXmean)\n",
    "AGE_DXsd <- round(sd(data_sample$AGE_DX,na.rm = T),2)\n",
    "paste0(\"Standard Deviation: \",AGE_DXsd)\n",
    "paste0(\"Number of records with missing or invalid AGE_DX\")\n",
    "table(is.na(data_sample$AGE_DX))"
   ]
  },
  {
   "cell_type": "code",
   "execution_count": null,
   "metadata": {
    "collapsed": false
   },
   "outputs": [],
   "source": [
    "# Presense of Positive Nodes\n",
    "# This is a variable calculated based on No. of Positive Nodes\n",
    "# See No. of Positive Nodes codes for details\n",
    "# 00, 95 - code as 0, \"No positive nodes present\"\n",
    "# 01-90 - code as 1, \"Positive nodes present\"\n",
    "# 98, 99 - code as NA, \"No nodes were examined OR Unknown whether nodes are positive\" \n",
    "data_sample <- mutate(data_sample, PN_PRESENT = ifelse(EOD10_PN %in% c(\"95\",\"00\"), 0,\n",
    "                                                ifelse(EOD10_PN %in% c(\"98\",\"99\"), NA, 1)))\n",
    "data_sample$PN_PRESENT <- as.factor(data_sample$PN_PRESENT)\n",
    "table(data_sample$PN_PRESENT)\n",
    "PN_PRESENTlev <- nlevels(data_sample$PN_PRESENT)\n",
    "paste0(\"Number of records with missing or invalid PN_PRESENT\")\n",
    "table(is.na(data_sample$PN_PRESENT))"
   ]
  },
  {
   "cell_type": "code",
   "execution_count": null,
   "metadata": {
    "collapsed": false
   },
   "outputs": [],
   "source": [
    "# No. of Positive Nodes\n",
    "# This field has some weird values\n",
    "# Code Description\n",
    "# 00 All nodes examined are negative\n",
    "# 01-89 Exact number of nodes positive\n",
    "# 90 90 or more nodes are positive\n",
    "# 95 Positive aspiration of lymph node(s) was performed\n",
    "# 97 Positive nodes are documented, but number is unspecified\n",
    "# 98 No nodes were examined\n",
    "# 99 Unknown whether nodes are positive; not applicable; not\n",
    "# stated in patient record\n",
    "\n",
    "# Checking for empty string values\n",
    "sort(unique(data_sample$EOD10_PN))\n",
    "# Based on that dictionary, consider renaming all values >90 to be NA\n",
    "data_sample$EOD10_PN <- as.integer(data_sample$EOD10_PN)\n",
    "# this also creates NAs if value was empty string\n",
    "table(data_sample$EOD10_PN[data_sample$EOD10_PN > 90])\n",
    "data_sample$EOD10_PN[data_sample$EOD10_PN > 90]<-NA\n",
    "EOD10_PNrange <- range(data_sample$EOD10_PN,na.rm=T)\n",
    "paste0(\"Range: \", paste(EOD10_PNrange, collapse=\"-\"))\n",
    "EOD10_PNmean <- round(mean(data_sample$EOD10_PN,na.rm=T),2)\n",
    "paste0(\"Mean: \",EOD10_PNmean)\n",
    "EOD10_PNsd <- round(sd(data_sample$EOD10_PN,na.rm=T),2)\n",
    "paste0(\"Standard Deviation: \",EOD10_PNsd)\n",
    "paste0(\"Number of records with missing or invalid EOD10_PN\")\n",
    "table(is.na(data_sample$EOD10_PN))"
   ]
  },
  {
   "cell_type": "code",
   "execution_count": null,
   "metadata": {
    "collapsed": false
   },
   "outputs": [],
   "source": [
    "# Number of Nodes Examined (Number of Nodes)\n",
    "# Code Description\n",
    "# 00 No nodes were examined\n",
    "# 01-89 Exact number of nodes examined\n",
    "# 90 90 or more nodes were examined\n",
    "# 95 No regional nodes were removed, but aspiration of regional\n",
    "# nodes was performed\n",
    "# 96 Regional lymph node removal was documented as a\n",
    "# sampling, and the number of nodes is unknown/not stated\n",
    "# 97 Regional lymph node removal was documented as a\n",
    "# dissection, and the number of nodes is unknown/not stated\n",
    "# 98 Regional lymph nodes were surgically removed, but the\n",
    "# number of lymph nodes is unknown/not stated and not\n",
    "# documented as a sampling or dissection; nodes were\n",
    "# examined, but the number is unknown\n",
    "# 99 Unknown whether nodes were examined; not applicable or\n",
    "# negative; not stated in patient record\n",
    "\n",
    "# Checking for empty string values\n",
    "sort(unique(data_sample$EOD10_NE))\n",
    "# Based on that dictionary, consider renaming all values >90 to be NA\n",
    "data_sample$EOD10_NE<-as.integer(data_sample$EOD10_NE)\n",
    "table(data_sample$EOD10_NE[data_sample$EOD10_NE > 90])\n",
    "data_sample$EOD10_NE[data_sample$EOD10_NE > 90]<-NA\n",
    "EOD10_NErange <- range(data_sample$EOD10_NE,na.rm=T)\n",
    "paste0(\"Range: \",paste(EOD10_NErange, collapse=\"-\"))\n",
    "EOD10_NEmean <- round(mean(data_sample$EOD10_NE,na.rm=T), 2)\n",
    "paste0(\"Mean: \",EOD10_NEmean)\n",
    "EOD10_NEsd <- round(sd(data_sample$EOD10_NE,na.rm=T), 2)\n",
    "paste0(\"Standard Deviation: \",EOD10_NEsd)\n",
    "paste0(\"Number of records with missing or invalid EOD10_NE\")\n",
    "table(is.na(data_sample$EOD10_NE))"
   ]
  },
  {
   "cell_type": "code",
   "execution_count": null,
   "metadata": {
    "collapsed": false
   },
   "outputs": [],
   "source": [
    "# Number of primaries\n",
    "# In Situ/Malignant as Federally Required based on Diagnosis Year\n",
    "# Code Description\n",
    "# 00 One primary only in the patient's lifetime\n",
    "# 01 First of two or more primaries\n",
    "# 02 Second of two or more primaries\n",
    "# .. (Actual number of this primary)\n",
    "# 41 Forty-first of forty-one or more primaries\n",
    "# 99 Unspecified or unknown sequence number of Federally required in situ or malignant\n",
    "# tumors. Sequence number 99 can be used if there is a malignant tumor and its sequence\n",
    "# number is unknown. (If there is known to be more than one malignant tumor, then the\n",
    "#                     tumors must be sequenced.)\n",
    "# Non-malignant Tumor as Federally Required based on Diagnosis Year\n",
    "# Code Description\n",
    "# 60 Only one non-malignant tumor or central registry-defined neoplasm\n",
    "# 61 First of two or more non-malignant tumors or central registry-defined neoplasms\n",
    "# 62 Second of two or more non-malignant tumors or central registry-defined neoplasms\n",
    "# .. ..\n",
    "# 87 Twenty-seventh of twenty-seven\n",
    "# 88 Unspecified or unknown sequence number of non-malignant tumor or central-registry\n",
    "# defined neoplasms. (Sequence number 88 can be used if there is a non-malignant tumor\n",
    "#                     and its sequence number is unknown. If there is known to be more than one nonmalignant\n",
    "#                     tumor, then the tumors must be sequenced.)\n",
    "\n",
    "# Checking for empty string values\n",
    "as.data.frame(table(data_sample$SEQ_NUM))\n",
    "# should not convert to numeric as is, because 0 actually means a single primary.\n",
    "# perhaps leave this as character var, or convert to factor, if decision tree requires factors (which it sometimes does)\n",
    "# however, based on Paper by Bellaachia and Guven, perhaps we could rename 0 to 1\n",
    "data_sample$SEQ_NUM[data_sample$SEQ_NUM %in% c(99,88,' ')]<-NA\n",
    "data_sample$SEQ_NUM<-as.integer(data_sample$SEQ_NUM)\n",
    "data_sample$SEQ_NUM[data_sample$SEQ_NUM == 0] <- 1\n",
    "SEQ_NUMrange <- range(data_sample$SEQ_NUM,na.rm=T)\n",
    "paste0(\"Range: \",paste(SEQ_NUMrange, collapse = \"-\"))\n",
    "SEQ_NUMmean <- round(mean(data_sample$SEQ_NUM,na.rm=T),2)\n",
    "paste0(\"Mean: \",SEQ_NUMmean)\n",
    "SEQ_NUMsd <- round(sd(data_sample$SEQ_NUM,na.rm=T),2)\n",
    "paste0(\"Standard Deviation: \",SEQ_NUMsd)\n",
    "paste0(\"Number of records with missing or invalid Number of primaries\")\n",
    "table(is.na(data_sample$SEQ_NUM))"
   ]
  },
  {
   "cell_type": "code",
   "execution_count": null,
   "metadata": {
    "collapsed": false
   },
   "outputs": [],
   "source": [
    "# Marital Status\n",
    "# Code Description\n",
    "# 1 Single (never married)\n",
    "# 2 Married (including common law)\n",
    "# 3 Separated\n",
    "# 4 Divorced\n",
    "# 5 Widowed\n",
    "# 6 Unmarried or domestic partner (same sex or opposite sex or\n",
    "#                                  unregistered)\n",
    "# 9 Unknown\n",
    "\n",
    "# Use sort and unique to check for empty string values\n",
    "# TO DO\n",
    "\n",
    "# Assign NA where MAR_STAT equals 9\n",
    "# TO DO\n",
    "\n",
    "# Assign 1 where MAR_STAT is 1 or 6 (combine the two categories together)\n",
    "# Unmarried but living with part combined =with single\n",
    "# TO DO\n",
    "\n",
    "\n",
    "# Convert MAR_STAT to a factor\n",
    "# TO DO\n",
    "\n",
    "# Display distribution of values in MAR_STAT\n",
    "# TO DO\n",
    "\n",
    "# Create variable MAR_STATlev to store the number of levels in MAR_STAT variable\n",
    "# TO DO\n",
    "paste0(\"Number of factor levels: \",MAR_STATlev)\n",
    "paste0(\"Number of records with missing or invalid MAR_STAT\")\n",
    "\n",
    "# Display breakdown of NA and non-missing values in MAR_STAT\n",
    "# TO DO\n"
   ]
  },
  {
   "cell_type": "code",
   "execution_count": null,
   "metadata": {
    "collapsed": false
   },
   "outputs": [],
   "source": [
    "# Race\n",
    "# Checking for empty string values\n",
    "sort(unique(data_sample$RACE1V))\n",
    "\n",
    "# We combine races that have small representation (< 300) into category \"Other\"\n",
    "table(as.factor(data_sample$RACE1V))\n",
    "race_dist <- as.data.frame(table(as.factor(data_sample$RACE1V)))\n",
    "data_sample$RACE1V[data_sample$RACE1V %in% race_dist[race_dist$Freq < 300, \"Var1\"]]<-98\n",
    "data_sample$RACE1V[data_sample$RACE1V %in% c(99)]<-NA\n",
    "data_sample$RACE1V<-as.factor(data_sample$RACE1V)\n",
    "table(data_sample$RACE1V)\n",
    "RACE1Vlev <- nlevels(data_sample$RACE1V)\n",
    "paste0(\"Number of factor levels: \",RACE1Vlev)\n",
    "table(is.na(data_sample$RACE1V))"
   ]
  },
  {
   "cell_type": "code",
   "execution_count": null,
   "metadata": {
    "collapsed": false
   },
   "outputs": [],
   "source": [
    "# Primary Site code\n",
    "# Checking for empty string values\n",
    "sort(unique(data_sample$PRIMSITE))\n",
    "data_sample$PRIMSITE<-as.factor(data_sample$PRIMSITE)\n",
    "PRIMSITElev <- nlevels(data_sample$PRIMSITE)\n",
    "paste0(\"Number of factor levels: \",PRIMSITElev)\n",
    "table(data_sample$PRIMSITE)\n",
    "table(is.na(data_sample$PRIMSITE))"
   ]
  },
  {
   "cell_type": "code",
   "execution_count": null,
   "metadata": {
    "collapsed": false
   },
   "outputs": [],
   "source": [
    "# Histologic type\n",
    "# Checking for empty string values\n",
    "# Recode values to reduce number of levels\n",
    "# Based on these sources, we used the following mapping\n",
    "# https://www.ncbi.nlm.nih.gov/pmc/articles/PMC2361680/\n",
    "# http://jamanetwork.com/journals/jamainternalmedicine/fullarticle/216158\n",
    "# \n",
    "# \".... grouped according to the histologic categories of their tumors as defined \n",
    "# by the International Classification of Diseases for Oncology (ICD-O) codes: \n",
    "# \"0001\" - ductal (ICD-O code 8500), \n",
    "# \"0002\" - lobular (8520 and 8522), \n",
    "# \"0003\" - mucinous (8480), \n",
    "# \"0004\" - comedocarcinoma (8501), \n",
    "# \"0005\" - medullary (8510), \n",
    "# \"0006\" - tubular (8211 and 8201), \n",
    "# \"0007\" - and papillary (8050 and 8503)\"\n",
    "# \"0008\" - Code all others as \"Other.\"\n",
    "\n",
    "table(data_sample$HISTO3V)\n",
    "data_sample$HISTO3V[data_sample$HISTO3V %in% c(\"8500\")] <- \"0001\"\n",
    "data_sample$HISTO3V[data_sample$HISTO3V %in% c(\"8520\",\"8522\")] <- \"0002\"\n",
    "data_sample$HISTO3V[data_sample$HISTO3V %in% c(\"8480\")] <- \"0003\"\n",
    "data_sample$HISTO3V[data_sample$HISTO3V %in% c(\"8501\")] <- \"0004\"\n",
    "data_sample$HISTO3V[data_sample$HISTO3V %in% c(\"8510\")] <- \"0005\"\n",
    "data_sample$HISTO3V[data_sample$HISTO3V %in% c(\"8211\",\"8201\")] <- \"0006\" \n",
    "data_sample$HISTO3V[data_sample$HISTO3V %in% c(\"8050\",\"8503\")] <- \"0007\"\n",
    "data_sample$HISTO3V[!data_sample$HISTO3V %in% c(\"0001\",\"0002\",\"0003\",\"0004\",\"0005\",\"0006\",\"0007\")] <- \"0008\"\n",
    "data_sample$HISTO3V<-as.factor(data_sample$HISTO3V)\n",
    "HISTO3Vlev <- nlevels(data_sample$HISTO3V)\n",
    "paste0(\"Number of factor levels: \",HISTO3Vlev)\n",
    "table(is.na(data_sample$HISTO3V))"
   ]
  },
  {
   "cell_type": "code",
   "execution_count": null,
   "metadata": {
    "collapsed": false
   },
   "outputs": [],
   "source": [
    "# Behavior\n",
    "# Checking for empty string values\n",
    "sort(unique(data_sample$BEHO3V))\n",
    "data_sample$BEHO3V<-as.factor(data_sample$BEHO3V)\n",
    "BEHO3Vlev <- nlevels(data_sample$BEHO3V)\n",
    "paste0(\"Number of factor levels: \",BEHO3Vlev)\n",
    "table(data_sample$BEHO3V)\n",
    "table(is.na(data_sample$BEHO3V))"
   ]
  },
  {
   "cell_type": "code",
   "execution_count": null,
   "metadata": {
    "collapsed": false
   },
   "outputs": [],
   "source": [
    "# Grade\n",
    "# Code Description\n",
    "# 1 Grade I; grade i; grade 1; well differentiated; differentiated, NOS\n",
    "# 2 Grade II; grade ii; grade 2; moderately differentiated; moderately differentiated; intermediate differentiation\n",
    "# 3 Grade III; grade iii; grade 3; poorly differentiated; differentiated\n",
    "# 4 Grade IV; grade iv; grade 4; undifferentiated; anaplastic\n",
    "# 5 T-cell; T-precursor\n",
    "# 6 B-cell; Pre-B; B-Precursor\n",
    "# 7 Null cell; Non T-non B;\n",
    "# 8 N K cell (natural killer cell)\n",
    "# 9 cell type not determined, not stated or not applicable\n",
    "\n",
    "# Checking for empty string values\n",
    "sort(unique(data_sample$GRADE))\n",
    "data_sample$GRADE[data_sample$GRADE %in% c(9)]<-NA\n",
    "data_sample$GRADE<-as.factor(data_sample$GRADE)\n",
    "GRADElev <- nlevels(data_sample$GRADE)\n",
    "paste0(\"Number of factor levels: \",GRADElev)\n",
    "table(data_sample$GRADE)\n",
    "table(is.na(data_sample$GRADE))"
   ]
  },
  {
   "cell_type": "code",
   "execution_count": null,
   "metadata": {
    "collapsed": false
   },
   "outputs": [],
   "source": [
    "# Extension of Tumor\n",
    "# Allowable values = 00-99.\n",
    "# Recode child nodes to parent nodes according to this source\n",
    "# Page 120 of https://seer.cancer.gov/archive/manuals/EOD10Dig.pub.pdf\n",
    "# Checking for empty string values\n",
    "sort(unique(data_sample$EOD10_EX))\n",
    "# There are multiple 2-space values\n",
    "data_sample$EOD10_EX_num <- as.numeric(data_sample$EOD10_EX)\n",
    "data_sample <- mutate(data_sample, \n",
    "                       EOD10_EX_str = ifelse(EOD10_EX_num >= 10 & EOD10_EX_num < 20, \"10\",\n",
    "                                      ifelse(EOD10_EX_num >= 20 & EOD10_EX_num < 30, \"20\",\n",
    "                                      ifelse(EOD10_EX_num >= 30 & EOD10_EX_num < 40, \"30\",\n",
    "                                      ifelse(EOD10_EX_num == 0, \"00\", \n",
    "                                      ifelse(EOD10_EX_num == 5, \"05\",EOD10_EX_num))))))\n",
    "data_sample$EOD10_EX <- data_sample$EOD10_EX_str\n",
    "data_sample$EOD10_EX[data_sample$EOD10_EX %in% c(99)]<-NA\n",
    "data_sample$EOD10_EX<-as.factor(data_sample$EOD10_EX)\n",
    "EOD10_EXlev <- nlevels(data_sample$EOD10_EX)\n",
    "paste0(\"Number of factor levels: \",EOD10_EXlev)\n",
    "table(is.na(data_sample$EOD10_EX))"
   ]
  },
  {
   "cell_type": "code",
   "execution_count": null,
   "metadata": {
    "collapsed": false
   },
   "outputs": [],
   "source": [
    "# Lymph node involvement\n",
    "# Checking for empty string values\n",
    "# Allowable values = 0-9.\n",
    "# 0 No lymph node involvement\n",
    "# 9 UNKNOWN; not stated\n",
    "sort(unique(data_sample$EOD10_ND))\n",
    "data_sample$EOD10_ND[data_sample$EOD10_ND %in% c(9,' ')]<-NA\n",
    "data_sample$EOD10_ND<-as.factor(data_sample$EOD10_ND)\n",
    "EOD10_NDlev <- nlevels(data_sample$EOD10_ND)\n",
    "paste0(\"Number of factor levels: \",EOD10_NDlev)\n",
    "table(is.na(data_sample$EOD10_ND))"
   ]
  },
  {
   "cell_type": "code",
   "execution_count": null,
   "metadata": {
    "collapsed": false
   },
   "outputs": [],
   "source": [
    "# Site Specific Surgery Code....priotize SURGPRIF\n",
    "table(data_sample$SS_SURG)\n",
    "# Considering https://seer.cancer.gov/seerstat/variables/seer/surgery/\n",
    "# Code \tDescription\n",
    "# 00 \tNo surgical procedure\n",
    "# 09 \tUnknown if surgery done\n",
    "# 90 \tSurgery, NOS\n",
    "# See other code definitions here: https://seer.cancer.gov/archive/manuals/historic/AppendD.pdf\n"
   ]
  },
  {
   "cell_type": "code",
   "execution_count": null,
   "metadata": {
    "collapsed": true
   },
   "outputs": [],
   "source": [
    "# SURGPRIF - Surgery Primary Syte\n",
    "# Code Description\n",
    "# 00 None; no surgical procedure of primary site; diagnosed at\n",
    "# autopsy only\n",
    "# 10-19 Site-specific codes. Tumor destruction; no pathologic\n",
    "# specimen or unknown whether there is a pathologic\n",
    "# specimen\n",
    "# 20-80 Site-specific codes. Resection; pathologic specimen\n",
    "# 90 Surgery, NOS. A surgical procedure to the primary site\n",
    "# was done, but no information on the type of surgical\n",
    "# procedure is provided.\n",
    "# 98 Special codes for hematopoietic, reticuloendothelial,\n",
    "# immunoproliferative, myeloproliferative diseases; illdefined\n",
    "# sites; and unknown primaries (See site-specific\n",
    "#                               codes for the sites and histologies), except death\n",
    "# certificate only\n",
    "# 99 Unknown if surgery performed; death certificate only\n",
    "# See detailed code descriptions here: https://seer.cancer.gov/archive/manuals/AppendC.pdf\n"
   ]
  },
  {
   "cell_type": "code",
   "execution_count": null,
   "metadata": {
    "collapsed": false
   },
   "outputs": [],
   "source": [
    "# Radiation\n",
    "# Code  Description\n",
    "# 0  None; diagnosed at autopsy\n",
    "# 1  Beam radiation\n",
    "# 2  Radioactive implants\n",
    "# 3  Radioisotopes\n",
    "# 4  Combination of 1 with 2 or 3\n",
    "# 5  Radiation, NOS - method or source not specified\n",
    "# 6  Other radiation (1973-1987 cases only)\n",
    "# 7  Patient or patient's guardian refused radiation therapy\n",
    "# 8  Radiation recommended, unknown if administered\n",
    "# 9  Unknown if radiation administered\n",
    "\n",
    "# Checking for empty string values\n",
    "sort(unique(data_sample$RADIATN))\n",
    "data_sample$RADIATN[data_sample$RADIATN %in% c(9)]<-NA\n",
    "data_sample$RADIATN<-as.factor((data_sample$RADIATN))\n",
    "RADIATNlev <- nlevels(data_sample$RADIATN)\n",
    "paste0(\"Number of factor levels: \",RADIATNlev)\n",
    "table(is.na(data_sample$RADIATN))"
   ]
  },
  {
   "cell_type": "code",
   "execution_count": null,
   "metadata": {
    "collapsed": false
   },
   "outputs": [],
   "source": [
    "# Stage of Cancer\n",
    "# Code Description\n",
    "# 88 N/A\n",
    "# 90 OCCULT\n",
    "# 99 UNK Stage\n",
    "# Checking for empty string values\n",
    "sort(unique(data_sample$ADJAJCCSTG))\n",
    "# There are values that have 2 blank spaces (not 1)\n",
    "data_sample$ADJAJCCSTG[data_sample$ADJAJCCSTG %in% c(88,'  ',99)]<-NA\n",
    "data_sample$ADJAJCCSTG<-as.factor(data_sample$ADJAJCCSTG)\n",
    "ADJAJCCSTGlev <- nlevels(data_sample$ADJAJCCSTG)\n",
    "paste0(\"Number of factor levels: \",ADJAJCCSTGlev) \n",
    "table(is.na(data_sample$ADJAJCCSTG))"
   ]
  },
  {
   "cell_type": "code",
   "execution_count": null,
   "metadata": {
    "collapsed": true
   },
   "outputs": [],
   "source": [
    "# save this version of data_sample as clean_data_sample if needed to load later\n",
    "clean_data_sample <- data_sample\n",
    "save(clean_data_sample, file = \"clean_data_sample.rdata\")"
   ]
  },
  {
   "cell_type": "code",
   "execution_count": null,
   "metadata": {
    "collapsed": false
   },
   "outputs": [],
   "source": [
    "load(\"clean_data_sample.rdata\")\n",
    "\n",
    "# data_sample <- clean_data_sample\n",
    "\n",
    "# Recode SS_SURG and SURGPRIF to a common Site-Specific Surgery Code\n",
    "ss_surg_surgprif_map <- read.csv(\"ss_surg_surgprif_map.csv\", colClasses=c(\"character\",\"character\"))\n",
    "str(ss_surg_surgprif_map)\n",
    "\n",
    "data_sample <- merge(data_sample, ss_surg_surgprif_map, by.x = \"SS_SURG\", by.y = \"CODE\",\n",
    "                     all.x = TRUE)\n",
    "data_sample <- merge(data_sample, ss_surg_surgprif_map, by.x = \"SURGPRIF\", by.y = \"CODE\",\n",
    "                     all.x = TRUE)\n",
    "# recoding into one var\n",
    "data_sample <- mutate(data_sample, SURGCODE = ifelse(SURGCODE.x==\"\", SURGCODE.y, SURGCODE.x))\n",
    "# recoding \"Unknown\" codes into NAs\n",
    "# 99 - Uknown if surgery was done\n",
    "data_sample$SURGCODE[data_sample$SURGCODE %in% c(\"99\")] <- NA\n",
    "\n",
    "data_sample$SURGCODE <- as.factor(data_sample$SURGCODE)\n",
    "SURGCODElev <- nlevels(data_sample$SURGCODE)"
   ]
  },
  {
   "cell_type": "code",
   "execution_count": null,
   "metadata": {
    "collapsed": false
   },
   "outputs": [],
   "source": [
    "# Dataset with NAs included\n",
    "full_surgcode_data_sample <- data_sample[,c(\n",
    "  \"MAR_STAT\"     ,\n",
    "  \"RACE1V\"       ,\n",
    "  \"AGE_DX\"       ,\n",
    "  \"PRIMSITE\"     ,\n",
    "  \"GRADE\"        ,\n",
    "  \"EOD10_SZ\"     ,\n",
    "  \"EOD10_EX\"     , \n",
    "  \"EOD10_ND\"     ,\n",
    "  \"EOD10_PN\"     ,\n",
    "  \"PN_PRESENT\"   ,\n",
    "  \"EOD10_NE\"     , \n",
    "  \"RADIATN\"      , \n",
    "  \"ADJAJCCSTG\"   ,  \n",
    "  \"SEQ_NUM\"      ,\n",
    "  \"HISTO3V\"      ,\n",
    "  \"BEHO3V\"       ,\n",
    "  \"SURGCODE\"      ,\n",
    "  \"survived\"\n",
    ")]\n",
    "paste0(\"Number of rows in Dataset with NAs included\")\n",
    "nrow(full_surgcode_data_sample)\n",
    "save(full_surgcode_data_sample, file = \"full_surgcode_data_sample.rdata\")"
   ]
  },
  {
   "cell_type": "code",
   "execution_count": null,
   "metadata": {
    "collapsed": false
   },
   "outputs": [],
   "source": [
    "#####################################################################################\n",
    "# Dataset with complete cases (no NAs included)\n",
    "clean_surgcode_data_sample<-na.omit(data_sample[,c(\n",
    "  \"MAR_STAT\"     ,\n",
    "  \"RACE1V\"       ,\n",
    "  \"AGE_DX\"       ,\n",
    "  \"PRIMSITE\"     ,\n",
    "  \"GRADE\"        ,\n",
    "  \"EOD10_SZ\"     ,\n",
    "  \"EOD10_EX\"     , \n",
    "  \"EOD10_ND\"     ,\n",
    "  \"EOD10_PN\"     ,\n",
    "  \"PN_PRESENT\"   ,\n",
    "  \"EOD10_NE\"     , \n",
    "  \"RADIATN\"      , \n",
    "  \"ADJAJCCSTG\"   ,  \n",
    "  \"SEQ_NUM\"      ,\n",
    "  \"HISTO3V\"      ,\n",
    "  \"BEHO3V\"       ,\n",
    "  \"SURGCODE\"      ,\n",
    "  \"survived\"\n",
    ")])\n",
    "\n",
    "paste0(\"Number of rows in Dataset with complete cases\")\n",
    "nrow(clean_surgcode_data_sample)\n",
    "save(clean_surgcode_data_sample, file = \"clean_surgcode_data_sample.rdata\")"
   ]
  },
  {
   "cell_type": "code",
   "execution_count": null,
   "metadata": {
    "collapsed": false
   },
   "outputs": [],
   "source": [
    "# Table 1 - describing the full dataset\n",
    "data.frame(Nominal_Variable_Name = c(\"Race\", \"Marital status\", \"Primary site code\", \"Histologic type\", \n",
    "                                    \"Behavior code\", \"Grade\", \"Extension of tumor\", \"Lymph node involvement\",\n",
    "                                    \"Presense of positive nodes\", \"Site specific surgery code\", \"Radiation\", \n",
    "                                     \"Stage of Cancer\"),\n",
    "          Number_of_Distinct_Values = c(RACE1Vlev, MAR_STATlev, PRIMSITElev,HISTO3Vlev, BEHO3Vlev,\n",
    "                                       GRADElev, EOD10_EXlev, EOD10_NDlev,PN_PRESENTlev, \n",
    "                                        SURGCODElev,RADIATNlev, ADJAJCCSTGlev))\n",
    "\n",
    "data.frame(Numeric_Variable_Name = c(\"Age\", \"Tumor Size\", \"No of positive nodes\", \"Number of nodes\", \"Number of primaries\"),\n",
    "           Mean = c(AGE_DXmean, EOD10_SZmean, EOD10_PNmean, EOD10_NEmean, SEQ_NUMmean),\n",
    "           StdDev = c(AGE_DXsd, EOD10_SZsd, EOD10_PNsd, EOD10_NEsd, SEQ_NUMsd),\n",
    "           Range = c(paste(AGE_DXrange, collapse = \"-\"), paste(EOD10_SZrange, collapse = \"-\"),\n",
    "                    paste(EOD10_PNrange, collapse = \"-\"),paste(EOD10_NErange, collapse=\"-\"),\n",
    "                    paste(SEQ_NUMrange, collapse=\"-\"))\n",
    "          )"
   ]
  },
  {
   "cell_type": "code",
   "execution_count": null,
   "metadata": {
    "collapsed": true
   },
   "outputs": [],
   "source": []
  }
 ],
 "metadata": {
  "kernelspec": {
   "display_name": "R",
   "language": "R",
   "name": "ir"
  },
  "language_info": {
   "codemirror_mode": "r",
   "file_extension": ".r",
   "mimetype": "text/x-r-source",
   "name": "R",
   "pygments_lexer": "r",
   "version": "3.3.2"
  }
 },
 "nbformat": 4,
 "nbformat_minor": 2
}
