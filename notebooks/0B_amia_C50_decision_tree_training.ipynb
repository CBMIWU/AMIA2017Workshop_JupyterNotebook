{
 "cells": [
  {
   "cell_type": "code",
   "execution_count": null,
   "metadata": {
    "collapsed": true
   },
   "outputs": [],
   "source": [
    "#########################################################################################\n",
    "# Data Science Training Workshop: Using Jupyter Notebook and R (with a little Spark)\n",
    "# Presenters: Leslie McIntosh, PhD, MPH; Connie Zabarovskaya, MITM; Lorinette Wirth, MPH\n",
    "# \n",
    "# This script uses full_surgcode_data_sample, where records with NAs were not removed\n",
    "# This ensures better representation of data and realistic survivability rate.\n",
    "# This script breaks down the data_sample into training and test datasets, and runs C5.0\n",
    "# Decision tree algorithm with different controls. We also calculate performance evaluation \n",
    "# measures for each model.\n",
    "#########################################################################################"
   ]
  },
  {
   "cell_type": "code",
   "execution_count": null,
   "metadata": {
    "collapsed": false
   },
   "outputs": [],
   "source": [
    "# ON DOCKER: If you're not using conniez/all-spark-notebook image, uncomment the install command. \n",
    "# This needs to be run only once per container run (so the package is installed)\n",
    "# suppressWarnings(suppressMessages(install.packages(\"C50\", lib=\"/opt/conda/lib/R/library\", repo=\"http://cran.us.r-project.org\")))\n",
    "# ON ANACONDA: If you haven't yet installed C50 package, uncomment this command\n",
    "# suppressWarnings(suppressMessages(install.packages(\"C50\", repo=\"http://cran.us.r-project.org\")))"
   ]
  },
  {
   "cell_type": "code",
   "execution_count": null,
   "metadata": {
    "collapsed": true
   },
   "outputs": [],
   "source": [
    "# FULL DATASET - WITH NAs\n",
    "# load data\n",
    "load(\"full_surgcode_data_sample.rdata\")\n",
    "# for easiness of use, let's shorten the name of the loaded dataset to be data_sample\n",
    "data_sample <- full_surgcode_data_sample"
   ]
  },
  {
   "cell_type": "code",
   "execution_count": null,
   "metadata": {
    "collapsed": true
   },
   "outputs": [],
   "source": [
    "# classification variable must be of factor type\n",
    "data_sample$survived <- as.factor(data_sample$survived)"
   ]
  },
  {
   "cell_type": "code",
   "execution_count": null,
   "metadata": {
    "collapsed": false
   },
   "outputs": [],
   "source": [
    "round(table(data_sample$survived)/nrow(data_sample),2)"
   ]
  },
  {
   "cell_type": "code",
   "execution_count": null,
   "metadata": {
    "collapsed": true
   },
   "outputs": [],
   "source": [
    "# create the train and test sets \n",
    "set.seed(5)\n",
    "# Use 80% of data for training dataset\n",
    "train <- sample(1:nrow(data_sample), nrow(data_sample)*0.8)\n",
    "test <- -train\n",
    "data_sample_train <- data_sample[train,]\n",
    "data_sample_test <- data_sample[test,]"
   ]
  },
  {
   "cell_type": "code",
   "execution_count": null,
   "metadata": {
    "collapsed": false
   },
   "outputs": [],
   "source": [
    "# load C50 library and run C5.0 fit\n",
    "library(C50)\n",
    "# takes slightly over 20sec\n",
    "fittime <- proc.time()\n",
    "\n",
    "# Create C5.0 model and store it in C50fit variable, the model classifies survived based on the rest of variables\n",
    "# TO DO\n",
    "\n",
    "proc.time() - fittime"
   ]
  },
  {
   "cell_type": "code",
   "execution_count": null,
   "metadata": {
    "collapsed": false
   },
   "outputs": [],
   "source": [
    "print(C50fit)\n",
    "\n",
    "# You can capture the long summary of fit and write it to a txt file for review\n",
    "s <- summary(C50fit)\n",
    "capture.output(s, file = \"full_C50fitsummary.txt\")"
   ]
  },
  {
   "cell_type": "code",
   "execution_count": null,
   "metadata": {
    "collapsed": true
   },
   "outputs": [],
   "source": [
    "# Function to plot variable importance\n",
    "plotVarImportance <- function(model){\n",
    "    varImp <- as.data.frame(C5imp(model))\n",
    "    varImp$var <- row.names(varImp)\n",
    "    barplot(varImp$Overall,names.arg=varImp$var, main=\"Variable Importance\", las=2, cex.names=0.7)\n",
    "}"
   ]
  },
  {
   "cell_type": "code",
   "execution_count": null,
   "metadata": {
    "collapsed": false
   },
   "outputs": [],
   "source": [
    "options(repr.plot.width=5, repr.plot.height=4)\n",
    "# Plot variable importance using the function created above\n",
    "# TO DO"
   ]
  },
  {
   "cell_type": "code",
   "execution_count": null,
   "metadata": {
    "collapsed": true
   },
   "outputs": [],
   "source": [
    "# Run predictions using C50fit model and store them in predictions variable\n",
    "# TO DO\n"
   ]
  },
  {
   "cell_type": "code",
   "execution_count": null,
   "metadata": {
    "collapsed": true
   },
   "outputs": [],
   "source": [
    "# ON DOCKER: If you're not using conniez/all-spark-notebook image, uncomment the install command. \n",
    "# This needs to be run only once per container run (so the package is installed)\n",
    "# suppressWarnings(suppressMessages(install.packages(\"dplyr\", lib=\"/opt/conda/lib/R/library\", repo=\"http://cran.us.r-project.org\")))\n",
    "# ON ANACONDA: If you haven't yet installed dplyr package, uncomment this command\n",
    "# suppressWarnings(suppressMessages(install.packages(\"dplyr\", repo=\"http://cran.us.r-project.org\")))"
   ]
  },
  {
   "cell_type": "code",
   "execution_count": null,
   "metadata": {
    "collapsed": false
   },
   "outputs": [],
   "source": [
    "suppressWarnings(suppressMessages(library(dplyr)))\n",
    "# Function to calculate accuracy, sensitivity, specificity and other performance evaluation metrics\n",
    "evaluatePerformance <- function(predictions, actualvalues, method_name){\n",
    "    require(dplyr)\n",
    "    comparison_data<-data.frame(predicted = predictions,survived = actualvalues)\n",
    "    measures <- comparison_data %>% mutate(compared = ifelse(predicted == survived & predictions == 0, 'TN',\n",
    "                                           ifelse(predicted == survived & predicted == 1, 'TP',\n",
    "                                           ifelse(predicted != survived & predicted == 0, 'FN',\n",
    "                                           ifelse(predicted != survived & predicted == 1, 'FP',NA))))\n",
    "                                          ) %>% group_by(compared) %>% summarise(freq = length(compared)) \n",
    "    mlist <- as.list(measures$freq)\n",
    "    names(mlist) <- measures$compared \n",
    "    # Accuracy:  (TP + TN)/(TP + TN + FP + FN)\n",
    "    accuracy <- (mlist$TP+mlist$TN)/(mlist$TP + mlist$TN + mlist$FP + mlist$FN)\n",
    "    # Misclassification rate/Error Rate: (FP + FN)/(TP + TN + FP + FN)\n",
    "    error<- (mlist$FP + mlist$FN)/(mlist$TP + mlist$TN + mlist$FP + mlist$FN) \n",
    "    # Sensitivity / Recall / True Positive Rate:  TP/(TP + FN)\n",
    "    sensitivity <- mlist$TP/(mlist$TP + mlist$FN)\n",
    "    # Specificity:  TN/(TN + FP)\n",
    "    specificity <- mlist$TN/(mlist$TN + mlist$FP)\n",
    "    # Prevalence: (TP+FN)/(TP + TN + FP + FN)\n",
    "    prevalence <- (mlist$TP + mlist$FN)/(mlist$TP + mlist$TN + mlist$FP + mlist$FN)\n",
    "    # Precision / Positivie Predictive Value (PPV): TP/(TP + FP)\n",
    "    PPV <- mlist$TP/(mlist$TP + mlist$FP)\n",
    "    # Negative Predictive Value (NPV): TN/(TN + FN)\n",
    "    NPV <- mlist$TN/(mlist$TN + mlist$FN)\n",
    "\n",
    "    # Source: https://en.wikipedia.org/wiki/Cohen's_kappa\n",
    "    # Kappa = (observed accuracy - expected accuracy)/(1 - expected accuracy)\n",
    "    # expected accuracy, or overall probability of random agreement\n",
    "    marginalA <- ((mlist$TP + mlist$FP) * (mlist$TP + mlist$FN))/(mlist$TP + mlist$TN + mlist$FP + mlist$FN)\n",
    "    marginalP <- ((mlist$FN + mlist$TN) * (mlist$FP + mlist$TN))/(mlist$TP + mlist$TN + mlist$FP + mlist$FN)\n",
    "    expected <- (marginalA + marginalP)/ (mlist$TP + mlist$TN + mlist$FP + mlist$FN)\n",
    "    Kappa <-  (accuracy - expected)/(1-expected)\n",
    "    \n",
    "    data.frame(Technique = method_name, \n",
    "               Accuracy = paste0(round(accuracy,3)*100, \"%\"),\n",
    "               Error_Rate = paste0(round(error,3)*100, \"%\"),\n",
    "               Sensitivity = paste0(round(sensitivity,3)*100, \"%\"),\n",
    "               Specificity = paste0(round(specificity,3)*100, \"%\"),\n",
    "               Prevalence = paste0(round(prevalence,3)*100, \"%\"),\n",
    "               PPV = paste0(round(PPV,3)*100, \"%\"),\n",
    "               NPV = paste0(round(NPV,3)*100, \"%\"),\n",
    "               Kappa = paste0(round(Kappa,3)*100, \"%\"))\n",
    "}"
   ]
  },
  {
   "cell_type": "code",
   "execution_count": null,
   "metadata": {
    "collapsed": false
   },
   "outputs": [],
   "source": [
    "# Summarize performance evaluation for the model\n",
    "evaluatePerformance(predictions,data_sample_test$survived, \"C5.0\")"
   ]
  },
  {
   "cell_type": "code",
   "execution_count": null,
   "metadata": {
    "collapsed": false
   },
   "outputs": [],
   "source": [
    "# Lowering CF control for C5.0 model will produce a smaller tree\n",
    "\n",
    "# We run several versions of controlled C5.0 in order to get an idea of how CF value affects the model\n",
    "# Default CF value is 0.25, we increment it by 0.05 in both directions.\n",
    "C50fitcontrolled_10 <- C5.0(survived~., data=data_sample_train, trials = 1,control = C5.0Control(CF= 0.10))\n",
    "\n",
    "C50fitcontrolled_15 <- C5.0(survived~., data=data_sample_train, trials = 1,control = C5.0Control(CF= 0.15))\n",
    "\n",
    "# Repeate the same model creation for Confidence Level 0.30, use the same naming convention for the variable\n",
    "# TO DO"
   ]
  },
  {
   "cell_type": "code",
   "execution_count": null,
   "metadata": {
    "collapsed": false
   },
   "outputs": [],
   "source": [
    "print(C50fitcontrolled_10)"
   ]
  },
  {
   "cell_type": "code",
   "execution_count": null,
   "metadata": {
    "collapsed": false
   },
   "outputs": [],
   "source": [
    "# Plot variable importance\n",
    "plotVarImportance(C50fitcontrolled_10)\n",
    "\n",
    "# The Variable importance doesn't seem to be affected too much"
   ]
  },
  {
   "cell_type": "code",
   "execution_count": null,
   "metadata": {
    "collapsed": false
   },
   "outputs": [],
   "source": [
    "# run predictions using the additional models\n",
    "predict_contr_10 <- predict(C50fitcontrolled_10, data_sample_test)\n",
    "predict_contr_15 <- predict(C50fitcontrolled_15, data_sample_test)\n",
    "predict_contr_30 <- predict(C50fitcontrolled_30, data_sample_test)\n",
    "\n",
    "# compare the performance of different model versions\n",
    "rbind(\n",
    "      evaluatePerformance(predict_contr_10,data_sample_test$survived, \"C5.0 with CF 0.10\"),\n",
    "      evaluatePerformance(predict_contr_15,data_sample_test$survived, \"C5.0 with CF 0.15\"),\n",
    "      evaluatePerformance(predictions,data_sample_test$survived, \"C5.0 with CF 0.25\"),\n",
    "      evaluatePerformance(predict_contr_30,data_sample_test$survived, \"C5.0 with CF 0.30\"))"
   ]
  },
  {
   "cell_type": "code",
   "execution_count": null,
   "metadata": {
    "collapsed": false
   },
   "outputs": [],
   "source": [
    "# Compare the tree sizes of 4 models\n",
    "paste0(\"Tree size for C5.0 model with CF 0.10: \", C50fitcontrolled_10$size)\n",
    "paste0(\"Tree size for C5.0 model with CF 0.15: \", C50fitcontrolled_15$size)\n",
    "paste0(\"Tree size for C5.0 model with CF 0.25: \", C50fit$size)\n",
    "# Repeate the same for C5.0 model you created with CF 0.30\n",
    "# TO DO"
   ]
  },
  {
   "cell_type": "code",
   "execution_count": null,
   "metadata": {
    "collapsed": false
   },
   "outputs": [],
   "source": [
    "# Attempt at plotting\n",
    "options(repr.plot.width=8, repr.plot.height=20)\n",
    "plot(C50fitcontrolled_10)"
   ]
  },
  {
   "cell_type": "code",
   "execution_count": null,
   "metadata": {
    "collapsed": true
   },
   "outputs": [],
   "source": []
  }
 ],
 "metadata": {
  "kernelspec": {
   "display_name": "R",
   "language": "R",
   "name": "ir"
  },
  "language_info": {
   "codemirror_mode": "r",
   "file_extension": ".r",
   "mimetype": "text/x-r-source",
   "name": "R",
   "pygments_lexer": "r",
   "version": "3.3.2"
  }
 },
 "nbformat": 4,
 "nbformat_minor": 2
}
