{
 "cells": [
  {
   "cell_type": "code",
   "execution_count": 1,
   "metadata": {
    "collapsed": true
   },
   "outputs": [],
   "source": [
    "#########################################################################################\n",
    "# Data Science Training Workshop: Using Jupyter Notebook and R (with a little Spark)\n",
    "# Presenters: Leslie McIntosh, PhD, MPH; Connie Zabarovskaya, MITM; Lorinette Wirth, MPH\n",
    "# \n",
    "# This script reads BREAST.txt data and parses into \"original_data\", which has 483,489 rows.\n",
    "# It limits data to diagnosis years 1973-2002 and only 21 variables seen in data_dictionary \n",
    "# The subset is saved as data_sample.\n",
    "# The script then creates the classification variable (survived) and \"cleans\" up the \n",
    "# rest of the variables for analysis. During the cleanup we also create one more \n",
    "# predictor variable based on Number of Positive Nodes (PN_PRESENT)\n",
    "#########################################################################################\n",
    "\n",
    "# SEER Research Data 1973-2013 -- ASCII Text Data:  Surveillance, Epidemiology, and End Results\n",
    "# (SEER) Program (www.seer.cancer.gov) Research Data (1973-2013), National Cancer Institute,\n",
    "# DCCPS, Surveillance Research Program, Surveillance Systems Branch, released April 2016,\n",
    "# based on the November 2015 submission.\n",
    "# see https://seer.cancer.gov/data/documentation.html"
   ]
  },
  {
   "cell_type": "code",
   "execution_count": 2,
   "metadata": {
    "collapsed": false
   },
   "outputs": [
    {
     "data": {
      "text/html": [
       "<table>\n",
       "<thead><tr><th scope=col>names</th><th scope=col>start</th><th scope=col>width</th></tr></thead>\n",
       "<tbody>\n",
       "\t<tr><td>PUBCSNUM </td><td> 1       </td><td> 8       </td></tr>\n",
       "\t<tr><td> REG     </td><td> 9       </td><td>10       </td></tr>\n",
       "\t<tr><td> MAR_STAT</td><td>19       </td><td> 1       </td></tr>\n",
       "\t<tr><td> RACE1V  </td><td>20       </td><td> 2       </td></tr>\n",
       "\t<tr><td> NHIADE  </td><td>23       </td><td> 1       </td></tr>\n",
       "\t<tr><td> SEX     </td><td>24       </td><td> 1       </td></tr>\n",
       "</tbody>\n",
       "</table>\n"
      ],
      "text/latex": [
       "\\begin{tabular}{r|lll}\n",
       " names & start & width\\\\\n",
       "\\hline\n",
       "\t PUBCSNUM  &  1        &  8       \\\\\n",
       "\t  REG      &  9        & 10       \\\\\n",
       "\t  MAR\\_STAT & 19          &  1         \\\\\n",
       "\t  RACE1V   & 20        &  2       \\\\\n",
       "\t  NHIADE   & 23        &  1       \\\\\n",
       "\t  SEX      & 24        &  1       \\\\\n",
       "\\end{tabular}\n"
      ],
      "text/markdown": [
       "\n",
       "names | start | width | \n",
       "|---|---|---|---|---|---|\n",
       "| PUBCSNUM  |  1        |  8        | \n",
       "|  REG      |  9        | 10        | \n",
       "|  MAR_STAT | 19        |  1        | \n",
       "|  RACE1V   | 20        |  2        | \n",
       "|  NHIADE   | 23        |  1        | \n",
       "|  SEX      | 24        |  1        | \n",
       "\n",
       "\n"
      ],
      "text/plain": [
       "  names     start width\n",
       "1 PUBCSNUM   1     8   \n",
       "2  REG       9    10   \n",
       "3  MAR_STAT 19     1   \n",
       "4  RACE1V   20     2   \n",
       "5  NHIADE   23     1   \n",
       "6  SEX      24     1   "
      ]
     },
     "metadata": {},
     "output_type": "display_data"
    }
   ],
   "source": [
    "# The three txt files below were prepared using Python, however, they can be prepared using another tool.\n",
    "# Create vector of var names and widths from Python output then cobine as data frame \n",
    "names<- scan(\"name.txt\", what=\"\",sep=\",\")\n",
    "width<-scan(\"width.txt\",what=\"\",sep=\",\")\n",
    "start<-scan(\"start.txt\",what=\"\",sep=\",\")\n",
    "\n",
    "start<-as.numeric(start)\n",
    "width<-as.numeric(width)\n",
    "names<-as.character(names)\n",
    "info<-data.frame(names,start,width)\n",
    "head(info)"
   ]
  },
  {
   "cell_type": "code",
   "execution_count": 3,
   "metadata": {
    "collapsed": false
   },
   "outputs": [
    {
     "data": {
      "text/html": [
       "'read time: '"
      ],
      "text/latex": [
       "'read time: '"
      ],
      "text/markdown": [
       "'read time: '"
      ],
      "text/plain": [
       "[1] \"read time: \""
      ]
     },
     "metadata": {},
     "output_type": "display_data"
    },
    {
     "data": {
      "text/plain": [
       "   user  system elapsed \n",
       "  7.950  14.460  25.746 "
      ]
     },
     "metadata": {},
     "output_type": "display_data"
    },
    {
     "data": {
      "text/html": [
       "'transformation time: '"
      ],
      "text/latex": [
       "'transformation time: '"
      ],
      "text/markdown": [
       "'transformation time: '"
      ],
      "text/plain": [
       "[1] \"transformation time: \""
      ]
     },
     "metadata": {},
     "output_type": "display_data"
    },
    {
     "data": {
      "text/plain": [
       "   user  system elapsed \n",
       " 791.77    0.14  792.92 "
      ]
     },
     "metadata": {},
     "output_type": "display_data"
    }
   ],
   "source": [
    "# read in breast.txt where each line is one record \n",
    "\n",
    "read <- proc.time()\n",
    "raw_data <- readLines(\"BREAST.TXT\")\n",
    "paste0(\"read time: \")\n",
    "proc.time() - read\n",
    "\n",
    "trans <- proc.time()\n",
    "# function to split each line per start and end of each variable\n",
    "parseFixedWidthFile <- function(data, data_dictionary){\n",
    "  empty_df<- as.data.frame(matrix(0, ncol = 134, nrow = length(data)))\n",
    "  for (i in 1:nrow(data_dictionary)) {\n",
    "    newdata<-unlist(lapply(data,substr,data_dictionary$start[i],data_dictionary$start[i]+data_dictionary$width[i]-1))\n",
    "    empty_df[i]<-newdata\n",
    "  }\n",
    "  empty_df\n",
    "}\n",
    "\n",
    "original_data <- parseFixedWidthFile(raw_data, info)\n",
    "# rename columns\n",
    "names(original_data) <- info$names\n",
    "paste0(\"transformation time: \")\n",
    "proc.time() - trans\n",
    "\n",
    "save(original_data, file = \"original_data.rdata\" )"
   ]
  },
  {
   "cell_type": "code",
   "execution_count": 4,
   "metadata": {
    "collapsed": false
   },
   "outputs": [
    {
     "data": {
      "text/html": [
       "'Checking for empty string values'"
      ],
      "text/latex": [
       "'Checking for empty string values'"
      ],
      "text/markdown": [
       "'Checking for empty string values'"
      ],
      "text/plain": [
       "[1] \"Checking for empty string values\""
      ]
     },
     "metadata": {},
     "output_type": "display_data"
    },
    {
     "data": {
      "text/plain": [
       "\n",
       " 1973  1974  1975  1976  1977  1978  1979  1980  1981  1982  1983  1984  1985 \n",
       " 7563 10016 10237 10029  9964 10127 10517 10745 11332 11537 12320 13247 14639 \n",
       " 1986  1987  1988  1989  1990  1991  1992  1993  1994  1995  1996  1997  1998 \n",
       "15413 16965 16924 16593 17685 18284 18666 18578 19302 20167 20715 22070 23526 \n",
       " 1999  2000  2001  2002  2003  2004  2005  2006  2007  2008  2009  2010  2011 \n",
       "23874 23608 24429 24417 23349 23961 24057 24560 25565 26273 27207 26520 27770 \n",
       " 2012  2013 \n",
       "27937 28573 "
      ]
     },
     "metadata": {},
     "output_type": "display_data"
    }
   ],
   "source": [
    "load(\"original_data.rdata\")\n",
    "\n",
    "names(original_data)<-trimws(names(original_data))\n",
    "# Checking for empty string values\n",
    "paste0(\"Checking for empty string values\")\n",
    "table(original_data$YEAR_DX)\n",
    "original_data$YEAR_DX <- as.numeric(original_data$YEAR_DX)\n",
    "# limit to case dx between 1973 and 2002 \n",
    "data_sample <- original_data[original_data$YEAR_DX >= 1973 & original_data$YEAR_DX <= 2002,]\n",
    "# data_sample is 483489 rows"
   ]
  },
  {
   "cell_type": "code",
   "execution_count": 5,
   "metadata": {
    "collapsed": true
   },
   "outputs": [],
   "source": [
    "keepVar<-c(\n",
    "  \"MAR_STAT\"     ,\n",
    "  \"RACE1V\"       ,\n",
    "  \"AGE_DX\"       ,\n",
    "  \"PRIMSITE\"     ,\n",
    "  \"GRADE\"        ,\n",
    "  \"EOD10_SZ\"     ,\n",
    "  \"EOD10_EX\"     , \n",
    "  \"EOD10_ND\"     ,\n",
    "  \"EOD10_PN\"     ,  \n",
    "  \"EOD10_NE\"     , \n",
    "  \"RADIATN\"      , \n",
    "  \"ADJAJCCSTG\"   ,  \n",
    "  \"SEQ_NUM\"      ,\n",
    "  \"HISTO3V\"      ,\n",
    "  \"BEHO3V\"       ,\n",
    "  \"SS_SURG\"      ,\n",
    "  \"SURGPRIF\"     ,\n",
    "  \"srv_time_mon\" ,\n",
    "  \"STAT_REC\"     ,\n",
    "  \"CODPUB\"       ,\n",
    "  \"PUBCSNUM\"     ,\n",
    "  \"REC_NO\"       \n",
    ") \n",
    "data_sample<-data_sample[,names(data_sample) %in% keepVar ]\n",
    "\n",
    "save(data_sample,file=\"data_sample.rdata\")"
   ]
  },
  {
   "cell_type": "code",
   "execution_count": 6,
   "metadata": {
    "collapsed": false
   },
   "outputs": [],
   "source": [
    "# ON DOCKER: If you're not using conniez/all-spark-notebook image, uncomment the install command. \n",
    "# This needs to be run only once per container run (so the package is installed)\n",
    "# suppressWarnings(suppressMessages(install.packages(\"dplyr\", lib=\"/opt/conda/lib/R/library\", repo=\"http://cran.us.r-project.org\")))\n",
    "# ON ANACONDA: If you haven't yet installed dplyr package, uncomment this command\n",
    "# suppressWarnings(suppressMessages(install.packages(\"dplyr\", repo=\"http://cran.us.r-project.org\")))"
   ]
  },
  {
   "cell_type": "code",
   "execution_count": 7,
   "metadata": {
    "collapsed": false
   },
   "outputs": [
    {
     "data": {
      "text/html": [
       "'Number of rows in data_sample'"
      ],
      "text/latex": [
       "'Number of rows in data\\_sample'"
      ],
      "text/markdown": [
       "'Number of rows in data_sample'"
      ],
      "text/plain": [
       "[1] \"Number of rows in data_sample\""
      ]
     },
     "metadata": {},
     "output_type": "display_data"
    },
    {
     "data": {
      "text/html": [
       "238457"
      ],
      "text/latex": [
       "238457"
      ],
      "text/markdown": [
       "238457"
      ],
      "text/plain": [
       "[1] 238457"
      ]
     },
     "metadata": {},
     "output_type": "display_data"
    },
    {
     "data": {
      "text/html": [
       "'Distribution of survived variable'"
      ],
      "text/latex": [
       "'Distribution of survived variable'"
      ],
      "text/markdown": [
       "'Distribution of survived variable'"
      ],
      "text/plain": [
       "[1] \"Distribution of survived variable\""
      ]
     },
     "metadata": {},
     "output_type": "display_data"
    },
    {
     "data": {
      "text/plain": [
       "\n",
       "     0      1 \n",
       " 67749 170708 "
      ]
     },
     "metadata": {},
     "output_type": "display_data"
    }
   ],
   "source": [
    "suppressWarnings(suppressMessages(library(dplyr)))\n",
    "load(\"data_sample.rdata\")\n",
    "\n",
    "# Recoding Survivability Variable\n",
    "\n",
    "# Cause of Death Codes downloaded with description and cancer, vs. non-cancer relatedness from here:\n",
    "# https://seer.cancer.gov/codrecode/1969+_d09172004/index.txt\n",
    "\n",
    "data_sample$srv_time_mon <- as.integer(data_sample$srv_time_mon)\n",
    "# Cause of Death - Breast Cancer code is 26000\n",
    "# Vital Status Recode (STAT_REC) Alive code is 1\n",
    "\n",
    "# assign survived variable value 1 - survived, 0 - not survived, NA - to be ignored\n",
    "data_sample <- mutate(data_sample, survived = ifelse(srv_time_mon >= 60 & srv_time_mon != 9999 & STAT_REC == '1', 1,\n",
    "                                                     ifelse(srv_time_mon < 60 & CODPUB == '26000', 0,NA)))\n",
    "# Display number of records where survived is not missing (NA)\n",
    "paste0(\"Number of rows in data_sample\")\n",
    "nrow(data_sample[!is.na(data_sample$survived),])\n",
    "# records with survival 1 and 0 for breast cancer - 238457, the rest should be ignored.\n",
    "\n",
    "# Display survivability breakdown\n",
    "paste0(\"Distribution of survived variable\")\n",
    "table(data_sample$survived)\n",
    "\n",
    "# Drop NA values\n",
    "data_sample <- data_sample[!is.na(data_sample$survived),]"
   ]
  },
  {
   "cell_type": "code",
   "execution_count": 8,
   "metadata": {
    "collapsed": false
   },
   "outputs": [
    {
     "name": "stdout",
     "output_type": "stream",
     "text": [
      "'data.frame':\t238457 obs. of  23 variables:\n",
      " $ PUBCSNUM    : chr  \"07000003\" \"07000112\" \"07000156\" \"07000198\" ...\n",
      " $ MAR_STAT    : chr  \"2\" \"2\" \"5\" \"2\" ...\n",
      " $ RACE1V      : chr  \"01\" \"02\" \"01\" \"01\" ...\n",
      " $ AGE_DX      : chr  \"060\" \"045\" \"076\" \"058\" ...\n",
      " $ SEQ_NUM     : chr  \"02\" \"02\" \"02\" \"02\" ...\n",
      " $ PRIMSITE    : chr  \"C505\" \"C509\" \"C508\" \"C504\" ...\n",
      " $ HISTO3V     : chr  \"8500\" \"8500\" \"8500\" \"8500\" ...\n",
      " $ BEHO3V      : chr  \"3\" \"3\" \"3\" \"3\" ...\n",
      " $ GRADE       : chr  \"9\" \"9\" \"9\" \"3\" ...\n",
      " $ EOD10_SZ    : chr  \"008\" \"   \" \"021\" \"   \" ...\n",
      " $ EOD10_EX    : chr  \"10\" \"  \" \"10\" \"  \" ...\n",
      " $ EOD10_ND    : chr  \"0\" \" \" \"6\" \" \" ...\n",
      " $ EOD10_PN    : chr  \"00\" \"  \" \"02\" \"  \" ...\n",
      " $ EOD10_NE    : chr  \"15\" \"  \" \"08\" \"  \" ...\n",
      " $ SURGPRIF    : chr  \"  \" \"  \" \"  \" \"  \" ...\n",
      " $ RADIATN     : chr  \"0\" \"0\" \"0\" \"0\" ...\n",
      " $ SS_SURG     : chr  \"20\" \"90\" \"50\" \"90\" ...\n",
      " $ REC_NO      : chr  \"01\" \"01\" \"01\" \"01\" ...\n",
      " $ CODPUB      : chr  \"00000\" \"00000\" \"26000\" \"26000\" ...\n",
      " $ STAT_REC    : chr  \"1\" \"1\" \"4\" \"4\" ...\n",
      " $ srv_time_mon: int  238 425 30 18 59 152 54 21 246 159 ...\n",
      " $ ADJAJCCSTG  : chr  \"10\" \"  \" \"33\" \"  \" ...\n",
      " $ survived    : num  1 1 0 0 0 1 0 0 1 1 ...\n"
     ]
    }
   ],
   "source": [
    "str(data_sample)"
   ]
  },
  {
   "cell_type": "code",
   "execution_count": 9,
   "metadata": {
    "collapsed": false
   },
   "outputs": [
    {
     "data": {
      "text/html": [
       "<ol class=list-inline>\n",
       "\t<li><span style=white-space:pre-wrap>'   '</span></li>\n",
       "\t<li>'000'</li>\n",
       "\t<li>'001'</li>\n",
       "\t<li>'002'</li>\n",
       "\t<li>'003'</li>\n",
       "\t<li>'004'</li>\n",
       "\t<li>'005'</li>\n",
       "\t<li>'006'</li>\n",
       "\t<li>'007'</li>\n",
       "\t<li>'008'</li>\n",
       "\t<li>'009'</li>\n",
       "\t<li>'010'</li>\n",
       "\t<li>'011'</li>\n",
       "\t<li>'012'</li>\n",
       "\t<li>'013'</li>\n",
       "\t<li>'014'</li>\n",
       "\t<li>'015'</li>\n",
       "\t<li>'016'</li>\n",
       "\t<li>'017'</li>\n",
       "\t<li>'018'</li>\n",
       "\t<li>'019'</li>\n",
       "\t<li>'020'</li>\n",
       "\t<li>'021'</li>\n",
       "\t<li>'022'</li>\n",
       "\t<li>'023'</li>\n",
       "\t<li>'024'</li>\n",
       "\t<li>'025'</li>\n",
       "\t<li>'026'</li>\n",
       "\t<li>'027'</li>\n",
       "\t<li>'028'</li>\n",
       "\t<li>'029'</li>\n",
       "\t<li>'030'</li>\n",
       "\t<li>'031'</li>\n",
       "\t<li>'032'</li>\n",
       "\t<li>'033'</li>\n",
       "\t<li>'034'</li>\n",
       "\t<li>'035'</li>\n",
       "\t<li>'036'</li>\n",
       "\t<li>'037'</li>\n",
       "\t<li>'038'</li>\n",
       "\t<li>'039'</li>\n",
       "\t<li>'040'</li>\n",
       "\t<li>'041'</li>\n",
       "\t<li>'042'</li>\n",
       "\t<li>'043'</li>\n",
       "\t<li>'044'</li>\n",
       "\t<li>'045'</li>\n",
       "\t<li>'046'</li>\n",
       "\t<li>'047'</li>\n",
       "\t<li>'048'</li>\n",
       "\t<li>'049'</li>\n",
       "\t<li>'050'</li>\n",
       "\t<li>'051'</li>\n",
       "\t<li>'052'</li>\n",
       "\t<li>'053'</li>\n",
       "\t<li>'054'</li>\n",
       "\t<li>'055'</li>\n",
       "\t<li>'056'</li>\n",
       "\t<li>'057'</li>\n",
       "\t<li>'058'</li>\n",
       "\t<li>'059'</li>\n",
       "\t<li>'060'</li>\n",
       "\t<li>'061'</li>\n",
       "\t<li>'062'</li>\n",
       "\t<li>'063'</li>\n",
       "\t<li>'064'</li>\n",
       "\t<li>'065'</li>\n",
       "\t<li>'066'</li>\n",
       "\t<li>'067'</li>\n",
       "\t<li>'068'</li>\n",
       "\t<li>'069'</li>\n",
       "\t<li>'070'</li>\n",
       "\t<li>'071'</li>\n",
       "\t<li>'072'</li>\n",
       "\t<li>'073'</li>\n",
       "\t<li>'074'</li>\n",
       "\t<li>'075'</li>\n",
       "\t<li>'076'</li>\n",
       "\t<li>'077'</li>\n",
       "\t<li>'078'</li>\n",
       "\t<li>'079'</li>\n",
       "\t<li>'080'</li>\n",
       "\t<li>'081'</li>\n",
       "\t<li>'082'</li>\n",
       "\t<li>'083'</li>\n",
       "\t<li>'084'</li>\n",
       "\t<li>'085'</li>\n",
       "\t<li>'086'</li>\n",
       "\t<li>'087'</li>\n",
       "\t<li>'088'</li>\n",
       "\t<li>'089'</li>\n",
       "\t<li>'090'</li>\n",
       "\t<li>'091'</li>\n",
       "\t<li>'092'</li>\n",
       "\t<li>'093'</li>\n",
       "\t<li>'094'</li>\n",
       "\t<li>'095'</li>\n",
       "\t<li>'096'</li>\n",
       "\t<li>'097'</li>\n",
       "\t<li>'098'</li>\n",
       "\t<li>'099'</li>\n",
       "\t<li>'100'</li>\n",
       "\t<li>'101'</li>\n",
       "\t<li>'102'</li>\n",
       "\t<li>'105'</li>\n",
       "\t<li>'107'</li>\n",
       "\t<li>'108'</li>\n",
       "\t<li>'109'</li>\n",
       "\t<li>'110'</li>\n",
       "\t<li>'111'</li>\n",
       "\t<li>'112'</li>\n",
       "\t<li>'114'</li>\n",
       "\t<li>'115'</li>\n",
       "\t<li>'116'</li>\n",
       "\t<li>'118'</li>\n",
       "\t<li>'119'</li>\n",
       "\t<li>'120'</li>\n",
       "\t<li>'122'</li>\n",
       "\t<li>'123'</li>\n",
       "\t<li>'125'</li>\n",
       "\t<li>'129'</li>\n",
       "\t<li>'130'</li>\n",
       "\t<li>'133'</li>\n",
       "\t<li>'135'</li>\n",
       "\t<li>'137'</li>\n",
       "\t<li>'138'</li>\n",
       "\t<li>'140'</li>\n",
       "\t<li>'141'</li>\n",
       "\t<li>'142'</li>\n",
       "\t<li>'143'</li>\n",
       "\t<li>'144'</li>\n",
       "\t<li>'145'</li>\n",
       "\t<li>'148'</li>\n",
       "\t<li>'150'</li>\n",
       "\t<li>'151'</li>\n",
       "\t<li>'152'</li>\n",
       "\t<li>'154'</li>\n",
       "\t<li>'155'</li>\n",
       "\t<li>'159'</li>\n",
       "\t<li>'160'</li>\n",
       "\t<li>'165'</li>\n",
       "\t<li>'170'</li>\n",
       "\t<li>'175'</li>\n",
       "\t<li>'180'</li>\n",
       "\t<li>'185'</li>\n",
       "\t<li>'187'</li>\n",
       "\t<li>'188'</li>\n",
       "\t<li>'189'</li>\n",
       "\t<li>'190'</li>\n",
       "\t<li>'195'</li>\n",
       "\t<li>'200'</li>\n",
       "\t<li>'210'</li>\n",
       "\t<li>'220'</li>\n",
       "\t<li>'222'</li>\n",
       "\t<li>'225'</li>\n",
       "\t<li>'229'</li>\n",
       "\t<li>'230'</li>\n",
       "\t<li>'235'</li>\n",
       "\t<li>'240'</li>\n",
       "\t<li>'250'</li>\n",
       "\t<li>'275'</li>\n",
       "\t<li>'280'</li>\n",
       "\t<li>'290'</li>\n",
       "\t<li>'300'</li>\n",
       "\t<li>'340'</li>\n",
       "\t<li>'350'</li>\n",
       "\t<li>'400'</li>\n",
       "\t<li>'450'</li>\n",
       "\t<li>'500'</li>\n",
       "\t<li>'520'</li>\n",
       "\t<li>'530'</li>\n",
       "\t<li>'700'</li>\n",
       "\t<li>'703'</li>\n",
       "\t<li>'712'</li>\n",
       "\t<li>'780'</li>\n",
       "\t<li>'800'</li>\n",
       "\t<li>'888'</li>\n",
       "\t<li>'900'</li>\n",
       "\t<li>'913'</li>\n",
       "\t<li>'949'</li>\n",
       "\t<li>'990'</li>\n",
       "\t<li>'997'</li>\n",
       "\t<li>'998'</li>\n",
       "\t<li>'999'</li>\n",
       "</ol>\n"
      ],
      "text/latex": [
       "\\begin{enumerate*}\n",
       "\\item '   '\n",
       "\\item '000'\n",
       "\\item '001'\n",
       "\\item '002'\n",
       "\\item '003'\n",
       "\\item '004'\n",
       "\\item '005'\n",
       "\\item '006'\n",
       "\\item '007'\n",
       "\\item '008'\n",
       "\\item '009'\n",
       "\\item '010'\n",
       "\\item '011'\n",
       "\\item '012'\n",
       "\\item '013'\n",
       "\\item '014'\n",
       "\\item '015'\n",
       "\\item '016'\n",
       "\\item '017'\n",
       "\\item '018'\n",
       "\\item '019'\n",
       "\\item '020'\n",
       "\\item '021'\n",
       "\\item '022'\n",
       "\\item '023'\n",
       "\\item '024'\n",
       "\\item '025'\n",
       "\\item '026'\n",
       "\\item '027'\n",
       "\\item '028'\n",
       "\\item '029'\n",
       "\\item '030'\n",
       "\\item '031'\n",
       "\\item '032'\n",
       "\\item '033'\n",
       "\\item '034'\n",
       "\\item '035'\n",
       "\\item '036'\n",
       "\\item '037'\n",
       "\\item '038'\n",
       "\\item '039'\n",
       "\\item '040'\n",
       "\\item '041'\n",
       "\\item '042'\n",
       "\\item '043'\n",
       "\\item '044'\n",
       "\\item '045'\n",
       "\\item '046'\n",
       "\\item '047'\n",
       "\\item '048'\n",
       "\\item '049'\n",
       "\\item '050'\n",
       "\\item '051'\n",
       "\\item '052'\n",
       "\\item '053'\n",
       "\\item '054'\n",
       "\\item '055'\n",
       "\\item '056'\n",
       "\\item '057'\n",
       "\\item '058'\n",
       "\\item '059'\n",
       "\\item '060'\n",
       "\\item '061'\n",
       "\\item '062'\n",
       "\\item '063'\n",
       "\\item '064'\n",
       "\\item '065'\n",
       "\\item '066'\n",
       "\\item '067'\n",
       "\\item '068'\n",
       "\\item '069'\n",
       "\\item '070'\n",
       "\\item '071'\n",
       "\\item '072'\n",
       "\\item '073'\n",
       "\\item '074'\n",
       "\\item '075'\n",
       "\\item '076'\n",
       "\\item '077'\n",
       "\\item '078'\n",
       "\\item '079'\n",
       "\\item '080'\n",
       "\\item '081'\n",
       "\\item '082'\n",
       "\\item '083'\n",
       "\\item '084'\n",
       "\\item '085'\n",
       "\\item '086'\n",
       "\\item '087'\n",
       "\\item '088'\n",
       "\\item '089'\n",
       "\\item '090'\n",
       "\\item '091'\n",
       "\\item '092'\n",
       "\\item '093'\n",
       "\\item '094'\n",
       "\\item '095'\n",
       "\\item '096'\n",
       "\\item '097'\n",
       "\\item '098'\n",
       "\\item '099'\n",
       "\\item '100'\n",
       "\\item '101'\n",
       "\\item '102'\n",
       "\\item '105'\n",
       "\\item '107'\n",
       "\\item '108'\n",
       "\\item '109'\n",
       "\\item '110'\n",
       "\\item '111'\n",
       "\\item '112'\n",
       "\\item '114'\n",
       "\\item '115'\n",
       "\\item '116'\n",
       "\\item '118'\n",
       "\\item '119'\n",
       "\\item '120'\n",
       "\\item '122'\n",
       "\\item '123'\n",
       "\\item '125'\n",
       "\\item '129'\n",
       "\\item '130'\n",
       "\\item '133'\n",
       "\\item '135'\n",
       "\\item '137'\n",
       "\\item '138'\n",
       "\\item '140'\n",
       "\\item '141'\n",
       "\\item '142'\n",
       "\\item '143'\n",
       "\\item '144'\n",
       "\\item '145'\n",
       "\\item '148'\n",
       "\\item '150'\n",
       "\\item '151'\n",
       "\\item '152'\n",
       "\\item '154'\n",
       "\\item '155'\n",
       "\\item '159'\n",
       "\\item '160'\n",
       "\\item '165'\n",
       "\\item '170'\n",
       "\\item '175'\n",
       "\\item '180'\n",
       "\\item '185'\n",
       "\\item '187'\n",
       "\\item '188'\n",
       "\\item '189'\n",
       "\\item '190'\n",
       "\\item '195'\n",
       "\\item '200'\n",
       "\\item '210'\n",
       "\\item '220'\n",
       "\\item '222'\n",
       "\\item '225'\n",
       "\\item '229'\n",
       "\\item '230'\n",
       "\\item '235'\n",
       "\\item '240'\n",
       "\\item '250'\n",
       "\\item '275'\n",
       "\\item '280'\n",
       "\\item '290'\n",
       "\\item '300'\n",
       "\\item '340'\n",
       "\\item '350'\n",
       "\\item '400'\n",
       "\\item '450'\n",
       "\\item '500'\n",
       "\\item '520'\n",
       "\\item '530'\n",
       "\\item '700'\n",
       "\\item '703'\n",
       "\\item '712'\n",
       "\\item '780'\n",
       "\\item '800'\n",
       "\\item '888'\n",
       "\\item '900'\n",
       "\\item '913'\n",
       "\\item '949'\n",
       "\\item '990'\n",
       "\\item '997'\n",
       "\\item '998'\n",
       "\\item '999'\n",
       "\\end{enumerate*}\n"
      ],
      "text/markdown": [
       "1. <span style=white-space:pre-wrap>'   '</span>\n",
       "2. '000'\n",
       "3. '001'\n",
       "4. '002'\n",
       "5. '003'\n",
       "6. '004'\n",
       "7. '005'\n",
       "8. '006'\n",
       "9. '007'\n",
       "10. '008'\n",
       "11. '009'\n",
       "12. '010'\n",
       "13. '011'\n",
       "14. '012'\n",
       "15. '013'\n",
       "16. '014'\n",
       "17. '015'\n",
       "18. '016'\n",
       "19. '017'\n",
       "20. '018'\n",
       "21. '019'\n",
       "22. '020'\n",
       "23. '021'\n",
       "24. '022'\n",
       "25. '023'\n",
       "26. '024'\n",
       "27. '025'\n",
       "28. '026'\n",
       "29. '027'\n",
       "30. '028'\n",
       "31. '029'\n",
       "32. '030'\n",
       "33. '031'\n",
       "34. '032'\n",
       "35. '033'\n",
       "36. '034'\n",
       "37. '035'\n",
       "38. '036'\n",
       "39. '037'\n",
       "40. '038'\n",
       "41. '039'\n",
       "42. '040'\n",
       "43. '041'\n",
       "44. '042'\n",
       "45. '043'\n",
       "46. '044'\n",
       "47. '045'\n",
       "48. '046'\n",
       "49. '047'\n",
       "50. '048'\n",
       "51. '049'\n",
       "52. '050'\n",
       "53. '051'\n",
       "54. '052'\n",
       "55. '053'\n",
       "56. '054'\n",
       "57. '055'\n",
       "58. '056'\n",
       "59. '057'\n",
       "60. '058'\n",
       "61. '059'\n",
       "62. '060'\n",
       "63. '061'\n",
       "64. '062'\n",
       "65. '063'\n",
       "66. '064'\n",
       "67. '065'\n",
       "68. '066'\n",
       "69. '067'\n",
       "70. '068'\n",
       "71. '069'\n",
       "72. '070'\n",
       "73. '071'\n",
       "74. '072'\n",
       "75. '073'\n",
       "76. '074'\n",
       "77. '075'\n",
       "78. '076'\n",
       "79. '077'\n",
       "80. '078'\n",
       "81. '079'\n",
       "82. '080'\n",
       "83. '081'\n",
       "84. '082'\n",
       "85. '083'\n",
       "86. '084'\n",
       "87. '085'\n",
       "88. '086'\n",
       "89. '087'\n",
       "90. '088'\n",
       "91. '089'\n",
       "92. '090'\n",
       "93. '091'\n",
       "94. '092'\n",
       "95. '093'\n",
       "96. '094'\n",
       "97. '095'\n",
       "98. '096'\n",
       "99. '097'\n",
       "100. '098'\n",
       "101. '099'\n",
       "102. '100'\n",
       "103. '101'\n",
       "104. '102'\n",
       "105. '105'\n",
       "106. '107'\n",
       "107. '108'\n",
       "108. '109'\n",
       "109. '110'\n",
       "110. '111'\n",
       "111. '112'\n",
       "112. '114'\n",
       "113. '115'\n",
       "114. '116'\n",
       "115. '118'\n",
       "116. '119'\n",
       "117. '120'\n",
       "118. '122'\n",
       "119. '123'\n",
       "120. '125'\n",
       "121. '129'\n",
       "122. '130'\n",
       "123. '133'\n",
       "124. '135'\n",
       "125. '137'\n",
       "126. '138'\n",
       "127. '140'\n",
       "128. '141'\n",
       "129. '142'\n",
       "130. '143'\n",
       "131. '144'\n",
       "132. '145'\n",
       "133. '148'\n",
       "134. '150'\n",
       "135. '151'\n",
       "136. '152'\n",
       "137. '154'\n",
       "138. '155'\n",
       "139. '159'\n",
       "140. '160'\n",
       "141. '165'\n",
       "142. '170'\n",
       "143. '175'\n",
       "144. '180'\n",
       "145. '185'\n",
       "146. '187'\n",
       "147. '188'\n",
       "148. '189'\n",
       "149. '190'\n",
       "150. '195'\n",
       "151. '200'\n",
       "152. '210'\n",
       "153. '220'\n",
       "154. '222'\n",
       "155. '225'\n",
       "156. '229'\n",
       "157. '230'\n",
       "158. '235'\n",
       "159. '240'\n",
       "160. '250'\n",
       "161. '275'\n",
       "162. '280'\n",
       "163. '290'\n",
       "164. '300'\n",
       "165. '340'\n",
       "166. '350'\n",
       "167. '400'\n",
       "168. '450'\n",
       "169. '500'\n",
       "170. '520'\n",
       "171. '530'\n",
       "172. '700'\n",
       "173. '703'\n",
       "174. '712'\n",
       "175. '780'\n",
       "176. '800'\n",
       "177. '888'\n",
       "178. '900'\n",
       "179. '913'\n",
       "180. '949'\n",
       "181. '990'\n",
       "182. '997'\n",
       "183. '998'\n",
       "184. '999'\n",
       "\n",
       "\n"
      ],
      "text/plain": [
       "  [1] \"   \" \"000\" \"001\" \"002\" \"003\" \"004\" \"005\" \"006\" \"007\" \"008\" \"009\" \"010\"\n",
       " [13] \"011\" \"012\" \"013\" \"014\" \"015\" \"016\" \"017\" \"018\" \"019\" \"020\" \"021\" \"022\"\n",
       " [25] \"023\" \"024\" \"025\" \"026\" \"027\" \"028\" \"029\" \"030\" \"031\" \"032\" \"033\" \"034\"\n",
       " [37] \"035\" \"036\" \"037\" \"038\" \"039\" \"040\" \"041\" \"042\" \"043\" \"044\" \"045\" \"046\"\n",
       " [49] \"047\" \"048\" \"049\" \"050\" \"051\" \"052\" \"053\" \"054\" \"055\" \"056\" \"057\" \"058\"\n",
       " [61] \"059\" \"060\" \"061\" \"062\" \"063\" \"064\" \"065\" \"066\" \"067\" \"068\" \"069\" \"070\"\n",
       " [73] \"071\" \"072\" \"073\" \"074\" \"075\" \"076\" \"077\" \"078\" \"079\" \"080\" \"081\" \"082\"\n",
       " [85] \"083\" \"084\" \"085\" \"086\" \"087\" \"088\" \"089\" \"090\" \"091\" \"092\" \"093\" \"094\"\n",
       " [97] \"095\" \"096\" \"097\" \"098\" \"099\" \"100\" \"101\" \"102\" \"105\" \"107\" \"108\" \"109\"\n",
       "[109] \"110\" \"111\" \"112\" \"114\" \"115\" \"116\" \"118\" \"119\" \"120\" \"122\" \"123\" \"125\"\n",
       "[121] \"129\" \"130\" \"133\" \"135\" \"137\" \"138\" \"140\" \"141\" \"142\" \"143\" \"144\" \"145\"\n",
       "[133] \"148\" \"150\" \"151\" \"152\" \"154\" \"155\" \"159\" \"160\" \"165\" \"170\" \"175\" \"180\"\n",
       "[145] \"185\" \"187\" \"188\" \"189\" \"190\" \"195\" \"200\" \"210\" \"220\" \"222\" \"225\" \"229\"\n",
       "[157] \"230\" \"235\" \"240\" \"250\" \"275\" \"280\" \"290\" \"300\" \"340\" \"350\" \"400\" \"450\"\n",
       "[169] \"500\" \"520\" \"530\" \"700\" \"703\" \"712\" \"780\" \"800\" \"888\" \"900\" \"913\" \"949\"\n",
       "[181] \"990\" \"997\" \"998\" \"999\""
      ]
     },
     "metadata": {},
     "output_type": "display_data"
    },
    {
     "data": {
      "text/html": [
       "'Range: 0-200'"
      ],
      "text/latex": [
       "'Range: 0-200'"
      ],
      "text/markdown": [
       "'Range: 0-200'"
      ],
      "text/plain": [
       "[1] \"Range: 0-200\""
      ]
     },
     "metadata": {},
     "output_type": "display_data"
    },
    {
     "data": {
      "text/html": [
       "'Mean: 20'"
      ],
      "text/latex": [
       "'Mean: 20'"
      ],
      "text/markdown": [
       "'Mean: 20'"
      ],
      "text/plain": [
       "[1] \"Mean: 20\""
      ]
     },
     "metadata": {},
     "output_type": "display_data"
    },
    {
     "data": {
      "text/html": [
       "'Standard Deviation: 18.63'"
      ],
      "text/latex": [
       "'Standard Deviation: 18.63'"
      ],
      "text/markdown": [
       "'Standard Deviation: 18.63'"
      ],
      "text/plain": [
       "[1] \"Standard Deviation: 18.63\""
      ]
     },
     "metadata": {},
     "output_type": "display_data"
    },
    {
     "data": {
      "text/html": [
       "'Number of records with missing or invalid tumor size'"
      ],
      "text/latex": [
       "'Number of records with missing or invalid tumor size'"
      ],
      "text/markdown": [
       "'Number of records with missing or invalid tumor size'"
      ],
      "text/plain": [
       "[1] \"Number of records with missing or invalid tumor size\""
      ]
     },
     "metadata": {},
     "output_type": "display_data"
    },
    {
     "data": {
      "text/plain": [
       "\n",
       " FALSE   TRUE \n",
       "150208  88249 "
      ]
     },
     "metadata": {},
     "output_type": "display_data"
    }
   ],
   "source": [
    "# Identifying and Recoding Missing Values for Predictor Variables\n",
    "\n",
    "# Tumor Size\n",
    "# Remove values of tumor size >200mm in accordance with Paper by Delen et al.\n",
    "# Tumor size in Paper by Bellaachia and Guven: mean=20, sd=16, range=0-200\n",
    "# Checking for empty string values\n",
    "sort(unique(data_sample$EOD10_SZ))\n",
    "# There are values consisting of 3 spaces\n",
    "data_sample$EOD10_SZ[data_sample$EOD10_SZ %in% c('   ')] <- NA\n",
    "data_sample$EOD10_SZ <- as.integer(data_sample$EOD10_SZ)\n",
    "data_sample$EOD10_SZ[data_sample$EOD10_SZ > 200]<-NA\n",
    "EOD10_SZrange <- range(data_sample$EOD10_SZ,na.rm = T)\n",
    "paste0(\"Range: \",paste(EOD10_SZrange, collapse = \"-\"))\n",
    "EOD10_SZmean <- round(mean(data_sample$EOD10_SZ,na.rm = T), 2)\n",
    "paste0(\"Mean: \",EOD10_SZmean)\n",
    "EOD10_SZsd <- round(sd(data_sample$EOD10_SZ,na.rm = T),2)\n",
    "paste0(\"Standard Deviation: \",EOD10_SZsd)\n",
    "paste0(\"Number of records with missing or invalid tumor size\")\n",
    "table(is.na(data_sample$EOD10_SZ))"
   ]
  },
  {
   "cell_type": "code",
   "execution_count": 10,
   "metadata": {
    "collapsed": false
   },
   "outputs": [
    {
     "data": {
      "text/html": [
       "<ol class=list-inline>\n",
       "\t<li>'010'</li>\n",
       "\t<li>'011'</li>\n",
       "\t<li>'012'</li>\n",
       "\t<li>'014'</li>\n",
       "\t<li>'015'</li>\n",
       "\t<li>'016'</li>\n",
       "\t<li>'017'</li>\n",
       "\t<li>'018'</li>\n",
       "\t<li>'019'</li>\n",
       "\t<li>'020'</li>\n",
       "\t<li>'021'</li>\n",
       "\t<li>'022'</li>\n",
       "\t<li>'023'</li>\n",
       "\t<li>'024'</li>\n",
       "\t<li>'025'</li>\n",
       "\t<li>'026'</li>\n",
       "\t<li>'027'</li>\n",
       "\t<li>'028'</li>\n",
       "\t<li>'029'</li>\n",
       "\t<li>'030'</li>\n",
       "\t<li>'031'</li>\n",
       "\t<li>'032'</li>\n",
       "\t<li>'033'</li>\n",
       "\t<li>'034'</li>\n",
       "\t<li>'035'</li>\n",
       "\t<li>'036'</li>\n",
       "\t<li>'037'</li>\n",
       "\t<li>'038'</li>\n",
       "\t<li>'039'</li>\n",
       "\t<li>'040'</li>\n",
       "\t<li>'041'</li>\n",
       "\t<li>'042'</li>\n",
       "\t<li>'043'</li>\n",
       "\t<li>'044'</li>\n",
       "\t<li>'045'</li>\n",
       "\t<li>'046'</li>\n",
       "\t<li>'047'</li>\n",
       "\t<li>'048'</li>\n",
       "\t<li>'049'</li>\n",
       "\t<li>'050'</li>\n",
       "\t<li>'051'</li>\n",
       "\t<li>'052'</li>\n",
       "\t<li>'053'</li>\n",
       "\t<li>'054'</li>\n",
       "\t<li>'055'</li>\n",
       "\t<li>'056'</li>\n",
       "\t<li>'057'</li>\n",
       "\t<li>'058'</li>\n",
       "\t<li>'059'</li>\n",
       "\t<li>'060'</li>\n",
       "\t<li>'061'</li>\n",
       "\t<li>'062'</li>\n",
       "\t<li>'063'</li>\n",
       "\t<li>'064'</li>\n",
       "\t<li>'065'</li>\n",
       "\t<li>'066'</li>\n",
       "\t<li>'067'</li>\n",
       "\t<li>'068'</li>\n",
       "\t<li>'069'</li>\n",
       "\t<li>'070'</li>\n",
       "\t<li>'071'</li>\n",
       "\t<li>'072'</li>\n",
       "\t<li>'073'</li>\n",
       "\t<li>'074'</li>\n",
       "\t<li>'075'</li>\n",
       "\t<li>'076'</li>\n",
       "\t<li>'077'</li>\n",
       "\t<li>'078'</li>\n",
       "\t<li>'079'</li>\n",
       "\t<li>'080'</li>\n",
       "\t<li>'081'</li>\n",
       "\t<li>'082'</li>\n",
       "\t<li>'083'</li>\n",
       "\t<li>'084'</li>\n",
       "\t<li>'085'</li>\n",
       "\t<li>'086'</li>\n",
       "\t<li>'087'</li>\n",
       "\t<li>'088'</li>\n",
       "\t<li>'089'</li>\n",
       "\t<li>'090'</li>\n",
       "\t<li>'091'</li>\n",
       "\t<li>'092'</li>\n",
       "\t<li>'093'</li>\n",
       "\t<li>'094'</li>\n",
       "\t<li>'095'</li>\n",
       "\t<li>'096'</li>\n",
       "\t<li>'097'</li>\n",
       "\t<li>'098'</li>\n",
       "\t<li>'099'</li>\n",
       "\t<li>'100'</li>\n",
       "\t<li>'101'</li>\n",
       "\t<li>'102'</li>\n",
       "\t<li>'103'</li>\n",
       "\t<li>'106'</li>\n",
       "\t<li>'999'</li>\n",
       "</ol>\n"
      ],
      "text/latex": [
       "\\begin{enumerate*}\n",
       "\\item '010'\n",
       "\\item '011'\n",
       "\\item '012'\n",
       "\\item '014'\n",
       "\\item '015'\n",
       "\\item '016'\n",
       "\\item '017'\n",
       "\\item '018'\n",
       "\\item '019'\n",
       "\\item '020'\n",
       "\\item '021'\n",
       "\\item '022'\n",
       "\\item '023'\n",
       "\\item '024'\n",
       "\\item '025'\n",
       "\\item '026'\n",
       "\\item '027'\n",
       "\\item '028'\n",
       "\\item '029'\n",
       "\\item '030'\n",
       "\\item '031'\n",
       "\\item '032'\n",
       "\\item '033'\n",
       "\\item '034'\n",
       "\\item '035'\n",
       "\\item '036'\n",
       "\\item '037'\n",
       "\\item '038'\n",
       "\\item '039'\n",
       "\\item '040'\n",
       "\\item '041'\n",
       "\\item '042'\n",
       "\\item '043'\n",
       "\\item '044'\n",
       "\\item '045'\n",
       "\\item '046'\n",
       "\\item '047'\n",
       "\\item '048'\n",
       "\\item '049'\n",
       "\\item '050'\n",
       "\\item '051'\n",
       "\\item '052'\n",
       "\\item '053'\n",
       "\\item '054'\n",
       "\\item '055'\n",
       "\\item '056'\n",
       "\\item '057'\n",
       "\\item '058'\n",
       "\\item '059'\n",
       "\\item '060'\n",
       "\\item '061'\n",
       "\\item '062'\n",
       "\\item '063'\n",
       "\\item '064'\n",
       "\\item '065'\n",
       "\\item '066'\n",
       "\\item '067'\n",
       "\\item '068'\n",
       "\\item '069'\n",
       "\\item '070'\n",
       "\\item '071'\n",
       "\\item '072'\n",
       "\\item '073'\n",
       "\\item '074'\n",
       "\\item '075'\n",
       "\\item '076'\n",
       "\\item '077'\n",
       "\\item '078'\n",
       "\\item '079'\n",
       "\\item '080'\n",
       "\\item '081'\n",
       "\\item '082'\n",
       "\\item '083'\n",
       "\\item '084'\n",
       "\\item '085'\n",
       "\\item '086'\n",
       "\\item '087'\n",
       "\\item '088'\n",
       "\\item '089'\n",
       "\\item '090'\n",
       "\\item '091'\n",
       "\\item '092'\n",
       "\\item '093'\n",
       "\\item '094'\n",
       "\\item '095'\n",
       "\\item '096'\n",
       "\\item '097'\n",
       "\\item '098'\n",
       "\\item '099'\n",
       "\\item '100'\n",
       "\\item '101'\n",
       "\\item '102'\n",
       "\\item '103'\n",
       "\\item '106'\n",
       "\\item '999'\n",
       "\\end{enumerate*}\n"
      ],
      "text/markdown": [
       "1. '010'\n",
       "2. '011'\n",
       "3. '012'\n",
       "4. '014'\n",
       "5. '015'\n",
       "6. '016'\n",
       "7. '017'\n",
       "8. '018'\n",
       "9. '019'\n",
       "10. '020'\n",
       "11. '021'\n",
       "12. '022'\n",
       "13. '023'\n",
       "14. '024'\n",
       "15. '025'\n",
       "16. '026'\n",
       "17. '027'\n",
       "18. '028'\n",
       "19. '029'\n",
       "20. '030'\n",
       "21. '031'\n",
       "22. '032'\n",
       "23. '033'\n",
       "24. '034'\n",
       "25. '035'\n",
       "26. '036'\n",
       "27. '037'\n",
       "28. '038'\n",
       "29. '039'\n",
       "30. '040'\n",
       "31. '041'\n",
       "32. '042'\n",
       "33. '043'\n",
       "34. '044'\n",
       "35. '045'\n",
       "36. '046'\n",
       "37. '047'\n",
       "38. '048'\n",
       "39. '049'\n",
       "40. '050'\n",
       "41. '051'\n",
       "42. '052'\n",
       "43. '053'\n",
       "44. '054'\n",
       "45. '055'\n",
       "46. '056'\n",
       "47. '057'\n",
       "48. '058'\n",
       "49. '059'\n",
       "50. '060'\n",
       "51. '061'\n",
       "52. '062'\n",
       "53. '063'\n",
       "54. '064'\n",
       "55. '065'\n",
       "56. '066'\n",
       "57. '067'\n",
       "58. '068'\n",
       "59. '069'\n",
       "60. '070'\n",
       "61. '071'\n",
       "62. '072'\n",
       "63. '073'\n",
       "64. '074'\n",
       "65. '075'\n",
       "66. '076'\n",
       "67. '077'\n",
       "68. '078'\n",
       "69. '079'\n",
       "70. '080'\n",
       "71. '081'\n",
       "72. '082'\n",
       "73. '083'\n",
       "74. '084'\n",
       "75. '085'\n",
       "76. '086'\n",
       "77. '087'\n",
       "78. '088'\n",
       "79. '089'\n",
       "80. '090'\n",
       "81. '091'\n",
       "82. '092'\n",
       "83. '093'\n",
       "84. '094'\n",
       "85. '095'\n",
       "86. '096'\n",
       "87. '097'\n",
       "88. '098'\n",
       "89. '099'\n",
       "90. '100'\n",
       "91. '101'\n",
       "92. '102'\n",
       "93. '103'\n",
       "94. '106'\n",
       "95. '999'\n",
       "\n",
       "\n"
      ],
      "text/plain": [
       " [1] \"010\" \"011\" \"012\" \"014\" \"015\" \"016\" \"017\" \"018\" \"019\" \"020\" \"021\" \"022\"\n",
       "[13] \"023\" \"024\" \"025\" \"026\" \"027\" \"028\" \"029\" \"030\" \"031\" \"032\" \"033\" \"034\"\n",
       "[25] \"035\" \"036\" \"037\" \"038\" \"039\" \"040\" \"041\" \"042\" \"043\" \"044\" \"045\" \"046\"\n",
       "[37] \"047\" \"048\" \"049\" \"050\" \"051\" \"052\" \"053\" \"054\" \"055\" \"056\" \"057\" \"058\"\n",
       "[49] \"059\" \"060\" \"061\" \"062\" \"063\" \"064\" \"065\" \"066\" \"067\" \"068\" \"069\" \"070\"\n",
       "[61] \"071\" \"072\" \"073\" \"074\" \"075\" \"076\" \"077\" \"078\" \"079\" \"080\" \"081\" \"082\"\n",
       "[73] \"083\" \"084\" \"085\" \"086\" \"087\" \"088\" \"089\" \"090\" \"091\" \"092\" \"093\" \"094\"\n",
       "[85] \"095\" \"096\" \"097\" \"098\" \"099\" \"100\" \"101\" \"102\" \"103\" \"106\" \"999\""
      ]
     },
     "metadata": {},
     "output_type": "display_data"
    },
    {
     "data": {
      "text/html": [
       "'Range: 10-106'"
      ],
      "text/latex": [
       "'Range: 10-106'"
      ],
      "text/markdown": [
       "'Range: 10-106'"
      ],
      "text/plain": [
       "[1] \"Range: 10-106\""
      ]
     },
     "metadata": {},
     "output_type": "display_data"
    },
    {
     "data": {
      "text/html": [
       "'Mean: 55.8'"
      ],
      "text/latex": [
       "'Mean: 55.8'"
      ],
      "text/markdown": [
       "'Mean: 55.8'"
      ],
      "text/plain": [
       "[1] \"Mean: 55.8\""
      ]
     },
     "metadata": {},
     "output_type": "display_data"
    },
    {
     "data": {
      "text/html": [
       "'Standard Deviation: 13.13'"
      ],
      "text/latex": [
       "'Standard Deviation: 13.13'"
      ],
      "text/markdown": [
       "'Standard Deviation: 13.13'"
      ],
      "text/plain": [
       "[1] \"Standard Deviation: 13.13\""
      ]
     },
     "metadata": {},
     "output_type": "display_data"
    },
    {
     "data": {
      "text/html": [
       "'Number of records with missing or invalid AGE_DX'"
      ],
      "text/latex": [
       "'Number of records with missing or invalid AGE\\_DX'"
      ],
      "text/markdown": [
       "'Number of records with missing or invalid AGE_DX'"
      ],
      "text/plain": [
       "[1] \"Number of records with missing or invalid AGE_DX\""
      ]
     },
     "metadata": {},
     "output_type": "display_data"
    },
    {
     "data": {
      "text/plain": [
       "\n",
       " FALSE   TRUE \n",
       "238451      6 "
      ]
     },
     "metadata": {},
     "output_type": "display_data"
    }
   ],
   "source": [
    "# Age\n",
    "# Age in Paper by Bellaachia and Guven:mean=58, sd=13, range=10-110\n",
    "# Checking for empty string values\n",
    "sort(unique(data_sample$AGE_DX))\n",
    "data_sample$AGE_DX[data_sample$AGE_DX %in% c(999, ' ')] <- NA\n",
    "data_sample$AGE_DX<- as.integer(data_sample$AGE_DX)\n",
    "AGE_DXrange <- range(data_sample$AGE_DX,na.rm = T)\n",
    "paste0(\"Range: \",paste(AGE_DXrange, collapse = \"-\"))\n",
    "AGE_DXmean <- round(mean(data_sample$AGE_DX,na.rm = T),2)\n",
    "paste0(\"Mean: \",AGE_DXmean)\n",
    "AGE_DXsd <- round(sd(data_sample$AGE_DX,na.rm = T),2)\n",
    "paste0(\"Standard Deviation: \",AGE_DXsd)\n",
    "paste0(\"Number of records with missing or invalid AGE_DX\")\n",
    "table(is.na(data_sample$AGE_DX))"
   ]
  },
  {
   "cell_type": "code",
   "execution_count": 11,
   "metadata": {
    "collapsed": false
   },
   "outputs": [
    {
     "data": {
      "text/plain": [
       "\n",
       "     0      1 \n",
       " 86941 102258 "
      ]
     },
     "metadata": {},
     "output_type": "display_data"
    },
    {
     "data": {
      "text/html": [
       "'Number of records with missing or invalid PN_PRESENT'"
      ],
      "text/latex": [
       "'Number of records with missing or invalid PN\\_PRESENT'"
      ],
      "text/markdown": [
       "'Number of records with missing or invalid PN_PRESENT'"
      ],
      "text/plain": [
       "[1] \"Number of records with missing or invalid PN_PRESENT\""
      ]
     },
     "metadata": {},
     "output_type": "display_data"
    },
    {
     "data": {
      "text/plain": [
       "\n",
       " FALSE   TRUE \n",
       "189199  49258 "
      ]
     },
     "metadata": {},
     "output_type": "display_data"
    }
   ],
   "source": [
    "# Presense of Positive Nodes\n",
    "# This is a variable calculated based on No. of Positive Nodes\n",
    "# See No. of Positive Nodes codes for details\n",
    "# 00, 95 - code as 0, \"No positive nodes present\"\n",
    "# 01-90 - code as 1, \"Positive nodes present\"\n",
    "# 98, 99 - code as NA, \"No nodes were examined OR Unknown whether nodes are positive\" \n",
    "data_sample <- mutate(data_sample, PN_PRESENT = ifelse(EOD10_PN %in% c(\"95\",\"00\"), 0,\n",
    "                                                ifelse(EOD10_PN %in% c(\"98\",\"99\"), NA, 1)))\n",
    "data_sample$PN_PRESENT <- as.factor(data_sample$PN_PRESENT)\n",
    "table(data_sample$PN_PRESENT)\n",
    "PN_PRESENTlev <- nlevels(data_sample$PN_PRESENT)\n",
    "paste0(\"Number of records with missing or invalid PN_PRESENT\")\n",
    "table(is.na(data_sample$PN_PRESENT))"
   ]
  },
  {
   "cell_type": "code",
   "execution_count": 12,
   "metadata": {
    "collapsed": false
   },
   "outputs": [
    {
     "data": {
      "text/html": [
       "<ol class=list-inline>\n",
       "\t<li><span style=white-space:pre-wrap>'  '</span></li>\n",
       "\t<li>'00'</li>\n",
       "\t<li>'01'</li>\n",
       "\t<li>'02'</li>\n",
       "\t<li>'03'</li>\n",
       "\t<li>'04'</li>\n",
       "\t<li>'05'</li>\n",
       "\t<li>'06'</li>\n",
       "\t<li>'07'</li>\n",
       "\t<li>'08'</li>\n",
       "\t<li>'09'</li>\n",
       "\t<li>'10'</li>\n",
       "\t<li>'11'</li>\n",
       "\t<li>'12'</li>\n",
       "\t<li>'13'</li>\n",
       "\t<li>'14'</li>\n",
       "\t<li>'15'</li>\n",
       "\t<li>'16'</li>\n",
       "\t<li>'17'</li>\n",
       "\t<li>'18'</li>\n",
       "\t<li>'19'</li>\n",
       "\t<li>'20'</li>\n",
       "\t<li>'21'</li>\n",
       "\t<li>'22'</li>\n",
       "\t<li>'23'</li>\n",
       "\t<li>'24'</li>\n",
       "\t<li>'25'</li>\n",
       "\t<li>'26'</li>\n",
       "\t<li>'27'</li>\n",
       "\t<li>'28'</li>\n",
       "\t<li>'29'</li>\n",
       "\t<li>'30'</li>\n",
       "\t<li>'31'</li>\n",
       "\t<li>'32'</li>\n",
       "\t<li>'33'</li>\n",
       "\t<li>'34'</li>\n",
       "\t<li>'35'</li>\n",
       "\t<li>'36'</li>\n",
       "\t<li>'37'</li>\n",
       "\t<li>'38'</li>\n",
       "\t<li>'39'</li>\n",
       "\t<li>'40'</li>\n",
       "\t<li>'41'</li>\n",
       "\t<li>'42'</li>\n",
       "\t<li>'43'</li>\n",
       "\t<li>'44'</li>\n",
       "\t<li>'45'</li>\n",
       "\t<li>'46'</li>\n",
       "\t<li>'47'</li>\n",
       "\t<li>'48'</li>\n",
       "\t<li>'50'</li>\n",
       "\t<li>'51'</li>\n",
       "\t<li>'53'</li>\n",
       "\t<li>'56'</li>\n",
       "\t<li>'58'</li>\n",
       "\t<li>'60'</li>\n",
       "\t<li>'61'</li>\n",
       "\t<li>'62'</li>\n",
       "\t<li>'75'</li>\n",
       "\t<li>'95'</li>\n",
       "\t<li>'97'</li>\n",
       "\t<li>'98'</li>\n",
       "\t<li>'99'</li>\n",
       "</ol>\n"
      ],
      "text/latex": [
       "\\begin{enumerate*}\n",
       "\\item '  '\n",
       "\\item '00'\n",
       "\\item '01'\n",
       "\\item '02'\n",
       "\\item '03'\n",
       "\\item '04'\n",
       "\\item '05'\n",
       "\\item '06'\n",
       "\\item '07'\n",
       "\\item '08'\n",
       "\\item '09'\n",
       "\\item '10'\n",
       "\\item '11'\n",
       "\\item '12'\n",
       "\\item '13'\n",
       "\\item '14'\n",
       "\\item '15'\n",
       "\\item '16'\n",
       "\\item '17'\n",
       "\\item '18'\n",
       "\\item '19'\n",
       "\\item '20'\n",
       "\\item '21'\n",
       "\\item '22'\n",
       "\\item '23'\n",
       "\\item '24'\n",
       "\\item '25'\n",
       "\\item '26'\n",
       "\\item '27'\n",
       "\\item '28'\n",
       "\\item '29'\n",
       "\\item '30'\n",
       "\\item '31'\n",
       "\\item '32'\n",
       "\\item '33'\n",
       "\\item '34'\n",
       "\\item '35'\n",
       "\\item '36'\n",
       "\\item '37'\n",
       "\\item '38'\n",
       "\\item '39'\n",
       "\\item '40'\n",
       "\\item '41'\n",
       "\\item '42'\n",
       "\\item '43'\n",
       "\\item '44'\n",
       "\\item '45'\n",
       "\\item '46'\n",
       "\\item '47'\n",
       "\\item '48'\n",
       "\\item '50'\n",
       "\\item '51'\n",
       "\\item '53'\n",
       "\\item '56'\n",
       "\\item '58'\n",
       "\\item '60'\n",
       "\\item '61'\n",
       "\\item '62'\n",
       "\\item '75'\n",
       "\\item '95'\n",
       "\\item '97'\n",
       "\\item '98'\n",
       "\\item '99'\n",
       "\\end{enumerate*}\n"
      ],
      "text/markdown": [
       "1. <span style=white-space:pre-wrap>'  '</span>\n",
       "2. '00'\n",
       "3. '01'\n",
       "4. '02'\n",
       "5. '03'\n",
       "6. '04'\n",
       "7. '05'\n",
       "8. '06'\n",
       "9. '07'\n",
       "10. '08'\n",
       "11. '09'\n",
       "12. '10'\n",
       "13. '11'\n",
       "14. '12'\n",
       "15. '13'\n",
       "16. '14'\n",
       "17. '15'\n",
       "18. '16'\n",
       "19. '17'\n",
       "20. '18'\n",
       "21. '19'\n",
       "22. '20'\n",
       "23. '21'\n",
       "24. '22'\n",
       "25. '23'\n",
       "26. '24'\n",
       "27. '25'\n",
       "28. '26'\n",
       "29. '27'\n",
       "30. '28'\n",
       "31. '29'\n",
       "32. '30'\n",
       "33. '31'\n",
       "34. '32'\n",
       "35. '33'\n",
       "36. '34'\n",
       "37. '35'\n",
       "38. '36'\n",
       "39. '37'\n",
       "40. '38'\n",
       "41. '39'\n",
       "42. '40'\n",
       "43. '41'\n",
       "44. '42'\n",
       "45. '43'\n",
       "46. '44'\n",
       "47. '45'\n",
       "48. '46'\n",
       "49. '47'\n",
       "50. '48'\n",
       "51. '50'\n",
       "52. '51'\n",
       "53. '53'\n",
       "54. '56'\n",
       "55. '58'\n",
       "56. '60'\n",
       "57. '61'\n",
       "58. '62'\n",
       "59. '75'\n",
       "60. '95'\n",
       "61. '97'\n",
       "62. '98'\n",
       "63. '99'\n",
       "\n",
       "\n"
      ],
      "text/plain": [
       " [1] \"  \" \"00\" \"01\" \"02\" \"03\" \"04\" \"05\" \"06\" \"07\" \"08\" \"09\" \"10\" \"11\" \"12\" \"13\"\n",
       "[16] \"14\" \"15\" \"16\" \"17\" \"18\" \"19\" \"20\" \"21\" \"22\" \"23\" \"24\" \"25\" \"26\" \"27\" \"28\"\n",
       "[31] \"29\" \"30\" \"31\" \"32\" \"33\" \"34\" \"35\" \"36\" \"37\" \"38\" \"39\" \"40\" \"41\" \"42\" \"43\"\n",
       "[46] \"44\" \"45\" \"46\" \"47\" \"48\" \"50\" \"51\" \"53\" \"56\" \"58\" \"60\" \"61\" \"62\" \"75\" \"95\"\n",
       "[61] \"97\" \"98\" \"99\""
      ]
     },
     "metadata": {},
     "output_type": "display_data"
    },
    {
     "data": {
      "text/plain": [
       "\n",
       "   95    97    98    99 \n",
       "    1   899 48148  1110 "
      ]
     },
     "metadata": {},
     "output_type": "display_data"
    },
    {
     "data": {
      "text/html": [
       "'Range: 0-75'"
      ],
      "text/latex": [
       "'Range: 0-75'"
      ],
      "text/markdown": [
       "'Range: 0-75'"
      ],
      "text/plain": [
       "[1] \"Range: 0-75\""
      ]
     },
     "metadata": {},
     "output_type": "display_data"
    },
    {
     "data": {
      "text/html": [
       "'Mean: 1.47'"
      ],
      "text/latex": [
       "'Mean: 1.47'"
      ],
      "text/markdown": [
       "'Mean: 1.47'"
      ],
      "text/plain": [
       "[1] \"Mean: 1.47\""
      ]
     },
     "metadata": {},
     "output_type": "display_data"
    },
    {
     "data": {
      "text/html": [
       "'Standard Deviation: 3.81'"
      ],
      "text/latex": [
       "'Standard Deviation: 3.81'"
      ],
      "text/markdown": [
       "'Standard Deviation: 3.81'"
      ],
      "text/plain": [
       "[1] \"Standard Deviation: 3.81\""
      ]
     },
     "metadata": {},
     "output_type": "display_data"
    },
    {
     "data": {
      "text/html": [
       "'Number of records with missing or invalid EOD10_PN'"
      ],
      "text/latex": [
       "'Number of records with missing or invalid EOD10\\_PN'"
      ],
      "text/markdown": [
       "'Number of records with missing or invalid EOD10_PN'"
      ],
      "text/plain": [
       "[1] \"Number of records with missing or invalid EOD10_PN\""
      ]
     },
     "metadata": {},
     "output_type": "display_data"
    },
    {
     "data": {
      "text/plain": [
       "\n",
       " FALSE   TRUE \n",
       "127395 111062 "
      ]
     },
     "metadata": {},
     "output_type": "display_data"
    }
   ],
   "source": [
    "# No. of Positive Nodes\n",
    "# This field has some weird values\n",
    "# Code Description\n",
    "# 00 All nodes examined are negative\n",
    "# 01-89 Exact number of nodes positive\n",
    "# 90 90 or more nodes are positive\n",
    "# 95 Positive aspiration of lymph node(s) was performed\n",
    "# 97 Positive nodes are documented, but number is unspecified\n",
    "# 98 No nodes were examined\n",
    "# 99 Unknown whether nodes are positive; not applicable; not\n",
    "# stated in patient record\n",
    "\n",
    "# Checking for empty string values\n",
    "sort(unique(data_sample$EOD10_PN))\n",
    "# Based on that dictionary, consider renaming all values >90 to be NA\n",
    "data_sample$EOD10_PN <- as.integer(data_sample$EOD10_PN)\n",
    "# this also creates NAs if value was empty string\n",
    "table(data_sample$EOD10_PN[data_sample$EOD10_PN > 90])\n",
    "data_sample$EOD10_PN[data_sample$EOD10_PN > 90]<-NA\n",
    "EOD10_PNrange <- range(data_sample$EOD10_PN,na.rm=T)\n",
    "paste0(\"Range: \", paste(EOD10_PNrange, collapse=\"-\"))\n",
    "EOD10_PNmean <- round(mean(data_sample$EOD10_PN,na.rm=T),2)\n",
    "paste0(\"Mean: \",EOD10_PNmean)\n",
    "EOD10_PNsd <- round(sd(data_sample$EOD10_PN,na.rm=T),2)\n",
    "paste0(\"Standard Deviation: \",EOD10_PNsd)\n",
    "paste0(\"Number of records with missing or invalid EOD10_PN\")\n",
    "table(is.na(data_sample$EOD10_PN))"
   ]
  },
  {
   "cell_type": "code",
   "execution_count": 13,
   "metadata": {
    "collapsed": false
   },
   "outputs": [
    {
     "data": {
      "text/html": [
       "<ol class=list-inline>\n",
       "\t<li><span style=white-space:pre-wrap>'  '</span></li>\n",
       "\t<li>'00'</li>\n",
       "\t<li>'01'</li>\n",
       "\t<li>'02'</li>\n",
       "\t<li>'03'</li>\n",
       "\t<li>'04'</li>\n",
       "\t<li>'05'</li>\n",
       "\t<li>'06'</li>\n",
       "\t<li>'07'</li>\n",
       "\t<li>'08'</li>\n",
       "\t<li>'09'</li>\n",
       "\t<li>'10'</li>\n",
       "\t<li>'11'</li>\n",
       "\t<li>'12'</li>\n",
       "\t<li>'13'</li>\n",
       "\t<li>'14'</li>\n",
       "\t<li>'15'</li>\n",
       "\t<li>'16'</li>\n",
       "\t<li>'17'</li>\n",
       "\t<li>'18'</li>\n",
       "\t<li>'19'</li>\n",
       "\t<li>'20'</li>\n",
       "\t<li>'21'</li>\n",
       "\t<li>'22'</li>\n",
       "\t<li>'23'</li>\n",
       "\t<li>'24'</li>\n",
       "\t<li>'25'</li>\n",
       "\t<li>'26'</li>\n",
       "\t<li>'27'</li>\n",
       "\t<li>'28'</li>\n",
       "\t<li>'29'</li>\n",
       "\t<li>'30'</li>\n",
       "\t<li>'31'</li>\n",
       "\t<li>'32'</li>\n",
       "\t<li>'33'</li>\n",
       "\t<li>'34'</li>\n",
       "\t<li>'35'</li>\n",
       "\t<li>'36'</li>\n",
       "\t<li>'37'</li>\n",
       "\t<li>'38'</li>\n",
       "\t<li>'39'</li>\n",
       "\t<li>'40'</li>\n",
       "\t<li>'41'</li>\n",
       "\t<li>'42'</li>\n",
       "\t<li>'43'</li>\n",
       "\t<li>'44'</li>\n",
       "\t<li>'45'</li>\n",
       "\t<li>'46'</li>\n",
       "\t<li>'47'</li>\n",
       "\t<li>'48'</li>\n",
       "\t<li>'49'</li>\n",
       "\t<li>'50'</li>\n",
       "\t<li>'51'</li>\n",
       "\t<li>'52'</li>\n",
       "\t<li>'53'</li>\n",
       "\t<li>'54'</li>\n",
       "\t<li>'55'</li>\n",
       "\t<li>'56'</li>\n",
       "\t<li>'57'</li>\n",
       "\t<li>'58'</li>\n",
       "\t<li>'59'</li>\n",
       "\t<li>'60'</li>\n",
       "\t<li>'61'</li>\n",
       "\t<li>'62'</li>\n",
       "\t<li>'63'</li>\n",
       "\t<li>'66'</li>\n",
       "\t<li>'71'</li>\n",
       "\t<li>'74'</li>\n",
       "\t<li>'76'</li>\n",
       "\t<li>'77'</li>\n",
       "\t<li>'90'</li>\n",
       "\t<li>'95'</li>\n",
       "\t<li>'96'</li>\n",
       "\t<li>'97'</li>\n",
       "\t<li>'98'</li>\n",
       "\t<li>'99'</li>\n",
       "</ol>\n"
      ],
      "text/latex": [
       "\\begin{enumerate*}\n",
       "\\item '  '\n",
       "\\item '00'\n",
       "\\item '01'\n",
       "\\item '02'\n",
       "\\item '03'\n",
       "\\item '04'\n",
       "\\item '05'\n",
       "\\item '06'\n",
       "\\item '07'\n",
       "\\item '08'\n",
       "\\item '09'\n",
       "\\item '10'\n",
       "\\item '11'\n",
       "\\item '12'\n",
       "\\item '13'\n",
       "\\item '14'\n",
       "\\item '15'\n",
       "\\item '16'\n",
       "\\item '17'\n",
       "\\item '18'\n",
       "\\item '19'\n",
       "\\item '20'\n",
       "\\item '21'\n",
       "\\item '22'\n",
       "\\item '23'\n",
       "\\item '24'\n",
       "\\item '25'\n",
       "\\item '26'\n",
       "\\item '27'\n",
       "\\item '28'\n",
       "\\item '29'\n",
       "\\item '30'\n",
       "\\item '31'\n",
       "\\item '32'\n",
       "\\item '33'\n",
       "\\item '34'\n",
       "\\item '35'\n",
       "\\item '36'\n",
       "\\item '37'\n",
       "\\item '38'\n",
       "\\item '39'\n",
       "\\item '40'\n",
       "\\item '41'\n",
       "\\item '42'\n",
       "\\item '43'\n",
       "\\item '44'\n",
       "\\item '45'\n",
       "\\item '46'\n",
       "\\item '47'\n",
       "\\item '48'\n",
       "\\item '49'\n",
       "\\item '50'\n",
       "\\item '51'\n",
       "\\item '52'\n",
       "\\item '53'\n",
       "\\item '54'\n",
       "\\item '55'\n",
       "\\item '56'\n",
       "\\item '57'\n",
       "\\item '58'\n",
       "\\item '59'\n",
       "\\item '60'\n",
       "\\item '61'\n",
       "\\item '62'\n",
       "\\item '63'\n",
       "\\item '66'\n",
       "\\item '71'\n",
       "\\item '74'\n",
       "\\item '76'\n",
       "\\item '77'\n",
       "\\item '90'\n",
       "\\item '95'\n",
       "\\item '96'\n",
       "\\item '97'\n",
       "\\item '98'\n",
       "\\item '99'\n",
       "\\end{enumerate*}\n"
      ],
      "text/markdown": [
       "1. <span style=white-space:pre-wrap>'  '</span>\n",
       "2. '00'\n",
       "3. '01'\n",
       "4. '02'\n",
       "5. '03'\n",
       "6. '04'\n",
       "7. '05'\n",
       "8. '06'\n",
       "9. '07'\n",
       "10. '08'\n",
       "11. '09'\n",
       "12. '10'\n",
       "13. '11'\n",
       "14. '12'\n",
       "15. '13'\n",
       "16. '14'\n",
       "17. '15'\n",
       "18. '16'\n",
       "19. '17'\n",
       "20. '18'\n",
       "21. '19'\n",
       "22. '20'\n",
       "23. '21'\n",
       "24. '22'\n",
       "25. '23'\n",
       "26. '24'\n",
       "27. '25'\n",
       "28. '26'\n",
       "29. '27'\n",
       "30. '28'\n",
       "31. '29'\n",
       "32. '30'\n",
       "33. '31'\n",
       "34. '32'\n",
       "35. '33'\n",
       "36. '34'\n",
       "37. '35'\n",
       "38. '36'\n",
       "39. '37'\n",
       "40. '38'\n",
       "41. '39'\n",
       "42. '40'\n",
       "43. '41'\n",
       "44. '42'\n",
       "45. '43'\n",
       "46. '44'\n",
       "47. '45'\n",
       "48. '46'\n",
       "49. '47'\n",
       "50. '48'\n",
       "51. '49'\n",
       "52. '50'\n",
       "53. '51'\n",
       "54. '52'\n",
       "55. '53'\n",
       "56. '54'\n",
       "57. '55'\n",
       "58. '56'\n",
       "59. '57'\n",
       "60. '58'\n",
       "61. '59'\n",
       "62. '60'\n",
       "63. '61'\n",
       "64. '62'\n",
       "65. '63'\n",
       "66. '66'\n",
       "67. '71'\n",
       "68. '74'\n",
       "69. '76'\n",
       "70. '77'\n",
       "71. '90'\n",
       "72. '95'\n",
       "73. '96'\n",
       "74. '97'\n",
       "75. '98'\n",
       "76. '99'\n",
       "\n",
       "\n"
      ],
      "text/plain": [
       " [1] \"  \" \"00\" \"01\" \"02\" \"03\" \"04\" \"05\" \"06\" \"07\" \"08\" \"09\" \"10\" \"11\" \"12\" \"13\"\n",
       "[16] \"14\" \"15\" \"16\" \"17\" \"18\" \"19\" \"20\" \"21\" \"22\" \"23\" \"24\" \"25\" \"26\" \"27\" \"28\"\n",
       "[31] \"29\" \"30\" \"31\" \"32\" \"33\" \"34\" \"35\" \"36\" \"37\" \"38\" \"39\" \"40\" \"41\" \"42\" \"43\"\n",
       "[46] \"44\" \"45\" \"46\" \"47\" \"48\" \"49\" \"50\" \"51\" \"52\" \"53\" \"54\" \"55\" \"56\" \"57\" \"58\"\n",
       "[61] \"59\" \"60\" \"61\" \"62\" \"63\" \"66\" \"71\" \"74\" \"76\" \"77\" \"90\" \"95\" \"96\" \"97\" \"98\"\n",
       "[76] \"99\""
      ]
     },
     "metadata": {},
     "output_type": "display_data"
    },
    {
     "data": {
      "text/plain": [
       "\n",
       "  95   96   97   98   99 \n",
       "  74   28  328 1923 1034 "
      ]
     },
     "metadata": {},
     "output_type": "display_data"
    },
    {
     "data": {
      "text/html": [
       "'Range: 0-90'"
      ],
      "text/latex": [
       "'Range: 0-90'"
      ],
      "text/markdown": [
       "'Range: 0-90'"
      ],
      "text/plain": [
       "[1] \"Range: 0-90\""
      ]
     },
     "metadata": {},
     "output_type": "display_data"
    },
    {
     "data": {
      "text/html": [
       "'Mean: 9.79'"
      ],
      "text/latex": [
       "'Mean: 9.79'"
      ],
      "text/markdown": [
       "'Mean: 9.79'"
      ],
      "text/plain": [
       "[1] \"Mean: 9.79\""
      ]
     },
     "metadata": {},
     "output_type": "display_data"
    },
    {
     "data": {
      "text/html": [
       "'Standard Deviation: 8.79'"
      ],
      "text/latex": [
       "'Standard Deviation: 8.79'"
      ],
      "text/markdown": [
       "'Standard Deviation: 8.79'"
      ],
      "text/plain": [
       "[1] \"Standard Deviation: 8.79\""
      ]
     },
     "metadata": {},
     "output_type": "display_data"
    },
    {
     "data": {
      "text/html": [
       "'Number of records with missing or invalid EOD10_NE'"
      ],
      "text/latex": [
       "'Number of records with missing or invalid EOD10\\_NE'"
      ],
      "text/markdown": [
       "'Number of records with missing or invalid EOD10_NE'"
      ],
      "text/plain": [
       "[1] \"Number of records with missing or invalid EOD10_NE\""
      ]
     },
     "metadata": {},
     "output_type": "display_data"
    },
    {
     "data": {
      "text/plain": [
       "\n",
       " FALSE   TRUE \n",
       "174166  64291 "
      ]
     },
     "metadata": {},
     "output_type": "display_data"
    }
   ],
   "source": [
    "# Number of Nodes Examined (Number of Nodes)\n",
    "# Code Description\n",
    "# 00 No nodes were examined\n",
    "# 01-89 Exact number of nodes examined\n",
    "# 90 90 or more nodes were examined\n",
    "# 95 No regional nodes were removed, but aspiration of regional\n",
    "# nodes was performed\n",
    "# 96 Regional lymph node removal was documented as a\n",
    "# sampling, and the number of nodes is unknown/not stated\n",
    "# 97 Regional lymph node removal was documented as a\n",
    "# dissection, and the number of nodes is unknown/not stated\n",
    "# 98 Regional lymph nodes were surgically removed, but the\n",
    "# number of lymph nodes is unknown/not stated and not\n",
    "# documented as a sampling or dissection; nodes were\n",
    "# examined, but the number is unknown\n",
    "# 99 Unknown whether nodes were examined; not applicable or\n",
    "# negative; not stated in patient record\n",
    "\n",
    "# Checking for empty string values\n",
    "sort(unique(data_sample$EOD10_NE))\n",
    "# Based on that dictionary, consider renaming all values >90 to be NA\n",
    "data_sample$EOD10_NE<-as.integer(data_sample$EOD10_NE)\n",
    "table(data_sample$EOD10_NE[data_sample$EOD10_NE > 90])\n",
    "data_sample$EOD10_NE[data_sample$EOD10_NE > 90]<-NA\n",
    "EOD10_NErange <- range(data_sample$EOD10_NE,na.rm=T)\n",
    "paste0(\"Range: \",paste(EOD10_NErange, collapse=\"-\"))\n",
    "EOD10_NEmean <- round(mean(data_sample$EOD10_NE,na.rm=T), 2)\n",
    "paste0(\"Mean: \",EOD10_NEmean)\n",
    "EOD10_NEsd <- round(sd(data_sample$EOD10_NE,na.rm=T), 2)\n",
    "paste0(\"Standard Deviation: \",EOD10_NEsd)\n",
    "paste0(\"Number of records with missing or invalid EOD10_NE\")\n",
    "table(is.na(data_sample$EOD10_NE))"
   ]
  },
  {
   "cell_type": "code",
   "execution_count": 14,
   "metadata": {
    "collapsed": false
   },
   "outputs": [
    {
     "data": {
      "text/html": [
       "<table>\n",
       "<thead><tr><th scope=col>Var1</th><th scope=col>Freq</th></tr></thead>\n",
       "<tbody>\n",
       "\t<tr><td>00    </td><td>170874</td></tr>\n",
       "\t<tr><td>01    </td><td> 39253</td></tr>\n",
       "\t<tr><td>02    </td><td> 26007</td></tr>\n",
       "\t<tr><td>03    </td><td>  2138</td></tr>\n",
       "\t<tr><td>04    </td><td>   161</td></tr>\n",
       "\t<tr><td>05    </td><td>    17</td></tr>\n",
       "\t<tr><td>06    </td><td>     1</td></tr>\n",
       "\t<tr><td>99    </td><td>     6</td></tr>\n",
       "</tbody>\n",
       "</table>\n"
      ],
      "text/latex": [
       "\\begin{tabular}{r|ll}\n",
       " Var1 & Freq\\\\\n",
       "\\hline\n",
       "\t 00     & 170874\\\\\n",
       "\t 01     &  39253\\\\\n",
       "\t 02     &  26007\\\\\n",
       "\t 03     &   2138\\\\\n",
       "\t 04     &    161\\\\\n",
       "\t 05     &     17\\\\\n",
       "\t 06     &      1\\\\\n",
       "\t 99     &      6\\\\\n",
       "\\end{tabular}\n"
      ],
      "text/markdown": [
       "\n",
       "Var1 | Freq | \n",
       "|---|---|---|---|---|---|---|---|\n",
       "| 00     | 170874 | \n",
       "| 01     |  39253 | \n",
       "| 02     |  26007 | \n",
       "| 03     |   2138 | \n",
       "| 04     |    161 | \n",
       "| 05     |     17 | \n",
       "| 06     |      1 | \n",
       "| 99     |      6 | \n",
       "\n",
       "\n"
      ],
      "text/plain": [
       "  Var1 Freq  \n",
       "1 00   170874\n",
       "2 01    39253\n",
       "3 02    26007\n",
       "4 03     2138\n",
       "5 04      161\n",
       "6 05       17\n",
       "7 06        1\n",
       "8 99        6"
      ]
     },
     "metadata": {},
     "output_type": "display_data"
    },
    {
     "data": {
      "text/html": [
       "'Range: 1-6'"
      ],
      "text/latex": [
       "'Range: 1-6'"
      ],
      "text/markdown": [
       "'Range: 1-6'"
      ],
      "text/plain": [
       "[1] \"Range: 1-6\""
      ]
     },
     "metadata": {},
     "output_type": "display_data"
    },
    {
     "data": {
      "text/html": [
       "'Mean: 1.13'"
      ],
      "text/latex": [
       "'Mean: 1.13'"
      ],
      "text/markdown": [
       "'Mean: 1.13'"
      ],
      "text/plain": [
       "[1] \"Mean: 1.13\""
      ]
     },
     "metadata": {},
     "output_type": "display_data"
    },
    {
     "data": {
      "text/html": [
       "'Standard Deviation: 0.37'"
      ],
      "text/latex": [
       "'Standard Deviation: 0.37'"
      ],
      "text/markdown": [
       "'Standard Deviation: 0.37'"
      ],
      "text/plain": [
       "[1] \"Standard Deviation: 0.37\""
      ]
     },
     "metadata": {},
     "output_type": "display_data"
    },
    {
     "data": {
      "text/html": [
       "'Number of records with missing or invalid Number of primaries'"
      ],
      "text/latex": [
       "'Number of records with missing or invalid Number of primaries'"
      ],
      "text/markdown": [
       "'Number of records with missing or invalid Number of primaries'"
      ],
      "text/plain": [
       "[1] \"Number of records with missing or invalid Number of primaries\""
      ]
     },
     "metadata": {},
     "output_type": "display_data"
    },
    {
     "data": {
      "text/plain": [
       "\n",
       " FALSE   TRUE \n",
       "238451      6 "
      ]
     },
     "metadata": {},
     "output_type": "display_data"
    }
   ],
   "source": [
    "# Number of primaries\n",
    "# In Situ/Malignant as Federally Required based on Diagnosis Year\n",
    "# Code Description\n",
    "# 00 One primary only in the patient's lifetime\n",
    "# 01 First of two or more primaries\n",
    "# 02 Second of two or more primaries\n",
    "# .. (Actual number of this primary)\n",
    "# 41 Forty-first of forty-one or more primaries\n",
    "# 99 Unspecified or unknown sequence number of Federally required in situ or malignant\n",
    "# tumors. Sequence number 99 can be used if there is a malignant tumor and its sequence\n",
    "# number is unknown. (If there is known to be more than one malignant tumor, then the\n",
    "#                     tumors must be sequenced.)\n",
    "# Non-malignant Tumor as Federally Required based on Diagnosis Year\n",
    "# Code Description\n",
    "# 60 Only one non-malignant tumor or central registry-defined neoplasm\n",
    "# 61 First of two or more non-malignant tumors or central registry-defined neoplasms\n",
    "# 62 Second of two or more non-malignant tumors or central registry-defined neoplasms\n",
    "# .. ..\n",
    "# 87 Twenty-seventh of twenty-seven\n",
    "# 88 Unspecified or unknown sequence number of non-malignant tumor or central-registry\n",
    "# defined neoplasms. (Sequence number 88 can be used if there is a non-malignant tumor\n",
    "#                     and its sequence number is unknown. If there is known to be more than one nonmalignant\n",
    "#                     tumor, then the tumors must be sequenced.)\n",
    "\n",
    "# Checking for empty string values\n",
    "as.data.frame(table(data_sample$SEQ_NUM))\n",
    "# should not convert to numeric as is, because 0 actually means a single primary.\n",
    "# perhaps leave this as character var, or convert to factor, if decision tree requires factors (which it sometimes does)\n",
    "# however, based on Paper by Bellaachia and Guven, perhaps we could rename 0 to 1\n",
    "data_sample$SEQ_NUM[data_sample$SEQ_NUM %in% c(99,88,' ')]<-NA\n",
    "data_sample$SEQ_NUM<-as.integer(data_sample$SEQ_NUM)\n",
    "data_sample$SEQ_NUM[data_sample$SEQ_NUM == 0] <- 1\n",
    "SEQ_NUMrange <- range(data_sample$SEQ_NUM,na.rm=T)\n",
    "paste0(\"Range: \",paste(SEQ_NUMrange, collapse = \"-\"))\n",
    "SEQ_NUMmean <- round(mean(data_sample$SEQ_NUM,na.rm=T),2)\n",
    "paste0(\"Mean: \",SEQ_NUMmean)\n",
    "SEQ_NUMsd <- round(sd(data_sample$SEQ_NUM,na.rm=T),2)\n",
    "paste0(\"Standard Deviation: \",SEQ_NUMsd)\n",
    "paste0(\"Number of records with missing or invalid Number of primaries\")\n",
    "table(is.na(data_sample$SEQ_NUM))"
   ]
  },
  {
   "cell_type": "code",
   "execution_count": 15,
   "metadata": {
    "collapsed": false
   },
   "outputs": [
    {
     "data": {
      "text/html": [
       "<ol class=list-inline>\n",
       "\t<li>'1'</li>\n",
       "\t<li>'2'</li>\n",
       "\t<li>'3'</li>\n",
       "\t<li>'4'</li>\n",
       "\t<li>'5'</li>\n",
       "\t<li>'6'</li>\n",
       "\t<li>'9'</li>\n",
       "</ol>\n"
      ],
      "text/latex": [
       "\\begin{enumerate*}\n",
       "\\item '1'\n",
       "\\item '2'\n",
       "\\item '3'\n",
       "\\item '4'\n",
       "\\item '5'\n",
       "\\item '6'\n",
       "\\item '9'\n",
       "\\end{enumerate*}\n"
      ],
      "text/markdown": [
       "1. '1'\n",
       "2. '2'\n",
       "3. '3'\n",
       "4. '4'\n",
       "5. '5'\n",
       "6. '6'\n",
       "7. '9'\n",
       "\n",
       "\n"
      ],
      "text/plain": [
       "[1] \"1\" \"2\" \"3\" \"4\" \"5\" \"6\" \"9\""
      ]
     },
     "metadata": {},
     "output_type": "display_data"
    },
    {
     "data": {
      "text/plain": [
       "\n",
       "     1      2      3      4      5 \n",
       " 25731 150715   2791  22390  29956 "
      ]
     },
     "metadata": {},
     "output_type": "display_data"
    },
    {
     "data": {
      "text/html": [
       "'Number of factor levels: 5'"
      ],
      "text/latex": [
       "'Number of factor levels: 5'"
      ],
      "text/markdown": [
       "'Number of factor levels: 5'"
      ],
      "text/plain": [
       "[1] \"Number of factor levels: 5\""
      ]
     },
     "metadata": {},
     "output_type": "display_data"
    },
    {
     "data": {
      "text/html": [
       "'Number of records with missing or invalid MAR_STAT'"
      ],
      "text/latex": [
       "'Number of records with missing or invalid MAR\\_STAT'"
      ],
      "text/markdown": [
       "'Number of records with missing or invalid MAR_STAT'"
      ],
      "text/plain": [
       "[1] \"Number of records with missing or invalid MAR_STAT\""
      ]
     },
     "metadata": {},
     "output_type": "display_data"
    },
    {
     "data": {
      "text/plain": [
       "\n",
       " FALSE   TRUE \n",
       "231583   6874 "
      ]
     },
     "metadata": {},
     "output_type": "display_data"
    }
   ],
   "source": [
    "# Marital Status\n",
    "# Code Description\n",
    "# 1 Single (never married)\n",
    "# 2 Married (including common law)\n",
    "# 3 Separated\n",
    "# 4 Divorced\n",
    "# 5 Widowed\n",
    "# 6 Unmarried or domestic partner (same sex or opposite sex or\n",
    "#                                  unregistered)\n",
    "# 9 Unknown\n",
    "\n",
    "# Use sort and unique to check for empty string values\n",
    "sort(unique(data_sample$MAR_STAT))\n",
    "# Assign NA where MAR_STAT equals 9\n",
    "data_sample$MAR_STAT[data_sample$MAR_STAT %in% c(9)]<-NA\n",
    "# Assign 1 where MAR_STAT is 1 or 6 (combine the two categories together)\n",
    "# Unmarried but living with part combined =with single\n",
    "data_sample$MAR_STAT[data_sample$MAR_STAT %in% c(1,6)]<-1 \n",
    "# Convert MAR_STAT to a factor\n",
    "data_sample$MAR_STAT<-as.factor(data_sample$MAR_STAT)\n",
    "# Display distribution of values in MAR_STAT\n",
    "table(data_sample$MAR_STAT)\n",
    "# Create variable MAR_STATlev to store the number of levels in MAR_STAT variable\n",
    "MAR_STATlev <- nlevels(data_sample$MAR_STAT)\n",
    "paste0(\"Number of factor levels: \",MAR_STATlev)\n",
    "paste0(\"Number of records with missing or invalid MAR_STAT\")\n",
    "# Display breakdown of NA and non-missing values in MAR_STAT\n",
    "table(is.na(data_sample$MAR_STAT))"
   ]
  },
  {
   "cell_type": "code",
   "execution_count": 16,
   "metadata": {
    "collapsed": false
   },
   "outputs": [
    {
     "data": {
      "text/html": [
       "<ol class=list-inline>\n",
       "\t<li>'01'</li>\n",
       "\t<li>'02'</li>\n",
       "\t<li>'03'</li>\n",
       "\t<li>'04'</li>\n",
       "\t<li>'05'</li>\n",
       "\t<li>'06'</li>\n",
       "\t<li>'07'</li>\n",
       "\t<li>'08'</li>\n",
       "\t<li>'10'</li>\n",
       "\t<li>'11'</li>\n",
       "\t<li>'12'</li>\n",
       "\t<li>'13'</li>\n",
       "\t<li>'14'</li>\n",
       "\t<li>'15'</li>\n",
       "\t<li>'16'</li>\n",
       "\t<li>'17'</li>\n",
       "\t<li>'20'</li>\n",
       "\t<li>'21'</li>\n",
       "\t<li>'22'</li>\n",
       "\t<li>'25'</li>\n",
       "\t<li>'26'</li>\n",
       "\t<li>'27'</li>\n",
       "\t<li>'28'</li>\n",
       "\t<li>'30'</li>\n",
       "\t<li>'31'</li>\n",
       "\t<li>'32'</li>\n",
       "\t<li>'96'</li>\n",
       "\t<li>'97'</li>\n",
       "\t<li>'98'</li>\n",
       "\t<li>'99'</li>\n",
       "</ol>\n"
      ],
      "text/latex": [
       "\\begin{enumerate*}\n",
       "\\item '01'\n",
       "\\item '02'\n",
       "\\item '03'\n",
       "\\item '04'\n",
       "\\item '05'\n",
       "\\item '06'\n",
       "\\item '07'\n",
       "\\item '08'\n",
       "\\item '10'\n",
       "\\item '11'\n",
       "\\item '12'\n",
       "\\item '13'\n",
       "\\item '14'\n",
       "\\item '15'\n",
       "\\item '16'\n",
       "\\item '17'\n",
       "\\item '20'\n",
       "\\item '21'\n",
       "\\item '22'\n",
       "\\item '25'\n",
       "\\item '26'\n",
       "\\item '27'\n",
       "\\item '28'\n",
       "\\item '30'\n",
       "\\item '31'\n",
       "\\item '32'\n",
       "\\item '96'\n",
       "\\item '97'\n",
       "\\item '98'\n",
       "\\item '99'\n",
       "\\end{enumerate*}\n"
      ],
      "text/markdown": [
       "1. '01'\n",
       "2. '02'\n",
       "3. '03'\n",
       "4. '04'\n",
       "5. '05'\n",
       "6. '06'\n",
       "7. '07'\n",
       "8. '08'\n",
       "9. '10'\n",
       "10. '11'\n",
       "11. '12'\n",
       "12. '13'\n",
       "13. '14'\n",
       "14. '15'\n",
       "15. '16'\n",
       "16. '17'\n",
       "17. '20'\n",
       "18. '21'\n",
       "19. '22'\n",
       "20. '25'\n",
       "21. '26'\n",
       "22. '27'\n",
       "23. '28'\n",
       "24. '30'\n",
       "25. '31'\n",
       "26. '32'\n",
       "27. '96'\n",
       "28. '97'\n",
       "29. '98'\n",
       "30. '99'\n",
       "\n",
       "\n"
      ],
      "text/plain": [
       " [1] \"01\" \"02\" \"03\" \"04\" \"05\" \"06\" \"07\" \"08\" \"10\" \"11\" \"12\" \"13\" \"14\" \"15\" \"16\"\n",
       "[16] \"17\" \"20\" \"21\" \"22\" \"25\" \"26\" \"27\" \"28\" \"30\" \"31\" \"32\" \"96\" \"97\" \"98\" \"99\""
      ]
     },
     "metadata": {},
     "output_type": "display_data"
    },
    {
     "data": {
      "text/plain": [
       "\n",
       "    01     02     03     04     05     06     07     08     10     11     12 \n",
       "201084  20115    980   3330   4865   3086   1693    527    308     31      1 \n",
       "    13     14     15     16     17     20     21     22     25     26     27 \n",
       "    24     42    326    117     15     14      4     16     10      2     98 \n",
       "    28     30     31     32     96     97     98     99 \n",
       "    38      3     13      4    763     15    267    666 "
      ]
     },
     "metadata": {},
     "output_type": "display_data"
    },
    {
     "data": {
      "text/plain": [
       "\n",
       "    01     02     03     04     05     06     07     08     10     15     96 \n",
       "201084  20115    980   3330   4865   3086   1693    527    308    326    763 \n",
       "    98 \n",
       "   714 "
      ]
     },
     "metadata": {},
     "output_type": "display_data"
    },
    {
     "data": {
      "text/html": [
       "'Number of factor levels: 12'"
      ],
      "text/latex": [
       "'Number of factor levels: 12'"
      ],
      "text/markdown": [
       "'Number of factor levels: 12'"
      ],
      "text/plain": [
       "[1] \"Number of factor levels: 12\""
      ]
     },
     "metadata": {},
     "output_type": "display_data"
    },
    {
     "data": {
      "text/plain": [
       "\n",
       " FALSE   TRUE \n",
       "237791    666 "
      ]
     },
     "metadata": {},
     "output_type": "display_data"
    }
   ],
   "source": [
    "# Race\n",
    "# Checking for empty string values\n",
    "sort(unique(data_sample$RACE1V))\n",
    "\n",
    "# We combine races that have small representation (< 300) into category \"Other\"\n",
    "table(as.factor(data_sample$RACE1V))\n",
    "race_dist <- as.data.frame(table(as.factor(data_sample$RACE1V)))\n",
    "data_sample$RACE1V[data_sample$RACE1V %in% race_dist[race_dist$Freq < 300, \"Var1\"]]<-98\n",
    "data_sample$RACE1V[data_sample$RACE1V %in% c(99)]<-NA\n",
    "data_sample$RACE1V<-as.factor(data_sample$RACE1V)\n",
    "table(data_sample$RACE1V)\n",
    "RACE1Vlev <- nlevels(data_sample$RACE1V)\n",
    "paste0(\"Number of factor levels: \",RACE1Vlev)\n",
    "table(is.na(data_sample$RACE1V))"
   ]
  },
  {
   "cell_type": "code",
   "execution_count": 17,
   "metadata": {
    "collapsed": false
   },
   "outputs": [
    {
     "data": {
      "text/html": [
       "<ol class=list-inline>\n",
       "\t<li>'C500'</li>\n",
       "\t<li>'C501'</li>\n",
       "\t<li>'C502'</li>\n",
       "\t<li>'C503'</li>\n",
       "\t<li>'C504'</li>\n",
       "\t<li>'C505'</li>\n",
       "\t<li>'C506'</li>\n",
       "\t<li>'C508'</li>\n",
       "\t<li>'C509'</li>\n",
       "</ol>\n"
      ],
      "text/latex": [
       "\\begin{enumerate*}\n",
       "\\item 'C500'\n",
       "\\item 'C501'\n",
       "\\item 'C502'\n",
       "\\item 'C503'\n",
       "\\item 'C504'\n",
       "\\item 'C505'\n",
       "\\item 'C506'\n",
       "\\item 'C508'\n",
       "\\item 'C509'\n",
       "\\end{enumerate*}\n"
      ],
      "text/markdown": [
       "1. 'C500'\n",
       "2. 'C501'\n",
       "3. 'C502'\n",
       "4. 'C503'\n",
       "5. 'C504'\n",
       "6. 'C505'\n",
       "7. 'C506'\n",
       "8. 'C508'\n",
       "9. 'C509'\n",
       "\n",
       "\n"
      ],
      "text/plain": [
       "[1] \"C500\" \"C501\" \"C502\" \"C503\" \"C504\" \"C505\" \"C506\" \"C508\" \"C509\""
      ]
     },
     "metadata": {},
     "output_type": "display_data"
    },
    {
     "data": {
      "text/html": [
       "'Number of factor levels: 9'"
      ],
      "text/latex": [
       "'Number of factor levels: 9'"
      ],
      "text/markdown": [
       "'Number of factor levels: 9'"
      ],
      "text/plain": [
       "[1] \"Number of factor levels: 9\""
      ]
     },
     "metadata": {},
     "output_type": "display_data"
    },
    {
     "data": {
      "text/plain": [
       "\n",
       " C500  C501  C502  C503  C504  C505  C506  C508  C509 \n",
       " 2118 13602 19755 11017 78434 14277  1917 46048 51289 "
      ]
     },
     "metadata": {},
     "output_type": "display_data"
    },
    {
     "data": {
      "text/plain": [
       "\n",
       " FALSE \n",
       "238457 "
      ]
     },
     "metadata": {},
     "output_type": "display_data"
    }
   ],
   "source": [
    "# Primary Site code\n",
    "# Checking for empty string values\n",
    "sort(unique(data_sample$PRIMSITE))\n",
    "data_sample$PRIMSITE<-as.factor(data_sample$PRIMSITE)\n",
    "PRIMSITElev <- nlevels(data_sample$PRIMSITE)\n",
    "paste0(\"Number of factor levels: \",PRIMSITElev)\n",
    "table(data_sample$PRIMSITE)\n",
    "table(is.na(data_sample$PRIMSITE))"
   ]
  },
  {
   "cell_type": "code",
   "execution_count": 18,
   "metadata": {
    "collapsed": false
   },
   "outputs": [
    {
     "data": {
      "text/plain": [
       "\n",
       "  8000   8001   8003   8004   8010   8012   8020   8021   8022   8031   8032 \n",
       "  1110     54      2      4   6641     39    150    137     25      3     46 \n",
       "  8033   8041   8046   8050   8070   8071   8074   8082   8140   8141   8154 \n",
       "     7     49      4    533    107     11      7      2   7686    865      1 \n",
       "  8190   8200   8201   8210   8211   8230   8231   8240   8246   8251   8260 \n",
       "     2    143   1542      1   2606    791     10      7     16      1    171 \n",
       "  8310   8314   8315   8323   8345   8400   8401   8430   8440   8470   8480 \n",
       "    27      1      4      9      1      2    246      1      3      1   3249 \n",
       "  8481   8490   8500   8501   8502   8503   8504   8507   8508   8510   8512 \n",
       "   196    106 158292   9593     37   1873    304    382      1   3750    186 \n",
       "  8513   8514   8520   8521   8522   8523   8524   8530   8540   8541   8542 \n",
       "    64      5  18846    334  10927   2076    152   2177    233    981      1 \n",
       "  8543   8550   8560   8562   8570   8571   8572   8573   8575   8743   8800 \n",
       "   557     15     51     11     38     12     12     19     79      1     33 \n",
       "  8801   8802   8803   8810   8811   8830   8832   8850   8851   8852   8854 \n",
       "    15      4      1     20      1     15      2      5      1      1      1 \n",
       "  8890   8891   8894   8900   8935   8940   8980   8982   8983   8990   9020 \n",
       "     4      1      1      1     27      4     61      3      1      1    535 \n",
       "  9120   9130   9150   9180   9580 \n",
       "    79      2      1      8      1 "
      ]
     },
     "metadata": {},
     "output_type": "display_data"
    },
    {
     "data": {
      "text/html": [
       "'Number of factor levels: 8'"
      ],
      "text/latex": [
       "'Number of factor levels: 8'"
      ],
      "text/markdown": [
       "'Number of factor levels: 8'"
      ],
      "text/plain": [
       "[1] \"Number of factor levels: 8\""
      ]
     },
     "metadata": {},
     "output_type": "display_data"
    },
    {
     "data": {
      "text/plain": [
       "\n",
       " FALSE \n",
       "238457 "
      ]
     },
     "metadata": {},
     "output_type": "display_data"
    }
   ],
   "source": [
    "# Histologic type\n",
    "# Checking for empty string values\n",
    "# Recode values to reduce number of levels\n",
    "# Based on these sources, we used the following mapping\n",
    "# https://www.ncbi.nlm.nih.gov/pmc/articles/PMC2361680/\n",
    "# http://jamanetwork.com/journals/jamainternalmedicine/fullarticle/216158\n",
    "# \n",
    "# \".... grouped according to the histologic categories of their tumors as defined \n",
    "# by the International Classification of Diseases for Oncology (ICD-O) codes: \n",
    "# \"0001\" - ductal (ICD-O code 8500), \n",
    "# \"0002\" - lobular (8520 and 8522), \n",
    "# \"0003\" - mucinous (8480), \n",
    "# \"0004\" - comedocarcinoma (8501), \n",
    "# \"0005\" - medullary (8510), \n",
    "# \"0006\" - tubular (8211 and 8201), \n",
    "# \"0007\" - and papillary (8050 and 8503)\"\n",
    "# \"0008\" - Code all others as \"Other.\"\n",
    "\n",
    "table(data_sample$HISTO3V)\n",
    "data_sample$HISTO3V[data_sample$HISTO3V %in% c(\"8500\")] <- \"0001\"\n",
    "data_sample$HISTO3V[data_sample$HISTO3V %in% c(\"8520\",\"8522\")] <- \"0002\"\n",
    "data_sample$HISTO3V[data_sample$HISTO3V %in% c(\"8480\")] <- \"0003\"\n",
    "data_sample$HISTO3V[data_sample$HISTO3V %in% c(\"8501\")] <- \"0004\"\n",
    "data_sample$HISTO3V[data_sample$HISTO3V %in% c(\"8510\")] <- \"0005\"\n",
    "data_sample$HISTO3V[data_sample$HISTO3V %in% c(\"8211\",\"8201\")] <- \"0006\" \n",
    "data_sample$HISTO3V[data_sample$HISTO3V %in% c(\"8050\",\"8503\")] <- \"0007\"\n",
    "data_sample$HISTO3V[!data_sample$HISTO3V %in% c(\"0001\",\"0002\",\"0003\",\"0004\",\"0005\",\"0006\",\"0007\")] <- \"0008\"\n",
    "data_sample$HISTO3V<-as.factor(data_sample$HISTO3V)\n",
    "HISTO3Vlev <- nlevels(data_sample$HISTO3V)\n",
    "paste0(\"Number of factor levels: \",HISTO3Vlev)\n",
    "table(is.na(data_sample$HISTO3V))"
   ]
  },
  {
   "cell_type": "code",
   "execution_count": 19,
   "metadata": {
    "collapsed": false
   },
   "outputs": [
    {
     "data": {
      "text/html": [
       "<ol class=list-inline>\n",
       "\t<li>'2'</li>\n",
       "\t<li>'3'</li>\n",
       "</ol>\n"
      ],
      "text/latex": [
       "\\begin{enumerate*}\n",
       "\\item '2'\n",
       "\\item '3'\n",
       "\\end{enumerate*}\n"
      ],
      "text/markdown": [
       "1. '2'\n",
       "2. '3'\n",
       "\n",
       "\n"
      ],
      "text/plain": [
       "[1] \"2\" \"3\""
      ]
     },
     "metadata": {},
     "output_type": "display_data"
    },
    {
     "data": {
      "text/html": [
       "'Number of factor levels: 2'"
      ],
      "text/latex": [
       "'Number of factor levels: 2'"
      ],
      "text/markdown": [
       "'Number of factor levels: 2'"
      ],
      "text/plain": [
       "[1] \"Number of factor levels: 2\""
      ]
     },
     "metadata": {},
     "output_type": "display_data"
    },
    {
     "data": {
      "text/plain": [
       "\n",
       "     2      3 \n",
       " 37762 200695 "
      ]
     },
     "metadata": {},
     "output_type": "display_data"
    },
    {
     "data": {
      "text/plain": [
       "\n",
       " FALSE \n",
       "238457 "
      ]
     },
     "metadata": {},
     "output_type": "display_data"
    }
   ],
   "source": [
    "# Behavior\n",
    "# Checking for empty string values\n",
    "sort(unique(data_sample$BEHO3V))\n",
    "data_sample$BEHO3V<-as.factor(data_sample$BEHO3V)\n",
    "BEHO3Vlev <- nlevels(data_sample$BEHO3V)\n",
    "paste0(\"Number of factor levels: \",BEHO3Vlev)\n",
    "table(data_sample$BEHO3V)\n",
    "table(is.na(data_sample$BEHO3V))"
   ]
  },
  {
   "cell_type": "code",
   "execution_count": 20,
   "metadata": {
    "collapsed": false
   },
   "outputs": [
    {
     "data": {
      "text/html": [
       "<ol class=list-inline>\n",
       "\t<li>'1'</li>\n",
       "\t<li>'2'</li>\n",
       "\t<li>'3'</li>\n",
       "\t<li>'4'</li>\n",
       "\t<li>'9'</li>\n",
       "</ol>\n"
      ],
      "text/latex": [
       "\\begin{enumerate*}\n",
       "\\item '1'\n",
       "\\item '2'\n",
       "\\item '3'\n",
       "\\item '4'\n",
       "\\item '9'\n",
       "\\end{enumerate*}\n"
      ],
      "text/markdown": [
       "1. '1'\n",
       "2. '2'\n",
       "3. '3'\n",
       "4. '4'\n",
       "5. '9'\n",
       "\n",
       "\n"
      ],
      "text/plain": [
       "[1] \"1\" \"2\" \"3\" \"4\" \"9\""
      ]
     },
     "metadata": {},
     "output_type": "display_data"
    },
    {
     "data": {
      "text/html": [
       "'Number of factor levels: 4'"
      ],
      "text/latex": [
       "'Number of factor levels: 4'"
      ],
      "text/markdown": [
       "'Number of factor levels: 4'"
      ],
      "text/plain": [
       "[1] \"Number of factor levels: 4\""
      ]
     },
     "metadata": {},
     "output_type": "display_data"
    },
    {
     "data": {
      "text/plain": [
       "\n",
       "    1     2     3     4 \n",
       "22828 54097 57167  8174 "
      ]
     },
     "metadata": {},
     "output_type": "display_data"
    },
    {
     "data": {
      "text/plain": [
       "\n",
       " FALSE   TRUE \n",
       "142266  96191 "
      ]
     },
     "metadata": {},
     "output_type": "display_data"
    }
   ],
   "source": [
    "# Grade\n",
    "# Code Description\n",
    "# 1 Grade I; grade i; grade 1; well differentiated; differentiated, NOS\n",
    "# 2 Grade II; grade ii; grade 2; moderately differentiated; moderately differentiated; intermediate differentiation\n",
    "# 3 Grade III; grade iii; grade 3; poorly differentiated; differentiated\n",
    "# 4 Grade IV; grade iv; grade 4; undifferentiated; anaplastic\n",
    "# 5 T-cell; T-precursor\n",
    "# 6 B-cell; Pre-B; B-Precursor\n",
    "# 7 Null cell; Non T-non B;\n",
    "# 8 N K cell (natural killer cell)\n",
    "# 9 cell type not determined, not stated or not applicable\n",
    "\n",
    "# Checking for empty string values\n",
    "sort(unique(data_sample$GRADE))\n",
    "data_sample$GRADE[data_sample$GRADE %in% c(9)]<-NA\n",
    "data_sample$GRADE<-as.factor(data_sample$GRADE)\n",
    "GRADElev <- nlevels(data_sample$GRADE)\n",
    "paste0(\"Number of factor levels: \",GRADElev)\n",
    "table(data_sample$GRADE)\n",
    "table(is.na(data_sample$GRADE))"
   ]
  },
  {
   "cell_type": "code",
   "execution_count": 21,
   "metadata": {
    "collapsed": false
   },
   "outputs": [
    {
     "data": {
      "text/html": [
       "<ol class=list-inline>\n",
       "\t<li><span style=white-space:pre-wrap>'  '</span></li>\n",
       "\t<li>'00'</li>\n",
       "\t<li>'05'</li>\n",
       "\t<li>'10'</li>\n",
       "\t<li>'11'</li>\n",
       "\t<li>'13'</li>\n",
       "\t<li>'14'</li>\n",
       "\t<li>'15'</li>\n",
       "\t<li>'16'</li>\n",
       "\t<li>'17'</li>\n",
       "\t<li>'18'</li>\n",
       "\t<li>'20'</li>\n",
       "\t<li>'21'</li>\n",
       "\t<li>'23'</li>\n",
       "\t<li>'24'</li>\n",
       "\t<li>'25'</li>\n",
       "\t<li>'26'</li>\n",
       "\t<li>'27'</li>\n",
       "\t<li>'28'</li>\n",
       "\t<li>'30'</li>\n",
       "\t<li>'31'</li>\n",
       "\t<li>'33'</li>\n",
       "\t<li>'34'</li>\n",
       "\t<li>'35'</li>\n",
       "\t<li>'36'</li>\n",
       "\t<li>'37'</li>\n",
       "\t<li>'38'</li>\n",
       "\t<li>'40'</li>\n",
       "\t<li>'50'</li>\n",
       "\t<li>'60'</li>\n",
       "\t<li>'70'</li>\n",
       "\t<li>'80'</li>\n",
       "\t<li>'85'</li>\n",
       "\t<li>'99'</li>\n",
       "</ol>\n"
      ],
      "text/latex": [
       "\\begin{enumerate*}\n",
       "\\item '  '\n",
       "\\item '00'\n",
       "\\item '05'\n",
       "\\item '10'\n",
       "\\item '11'\n",
       "\\item '13'\n",
       "\\item '14'\n",
       "\\item '15'\n",
       "\\item '16'\n",
       "\\item '17'\n",
       "\\item '18'\n",
       "\\item '20'\n",
       "\\item '21'\n",
       "\\item '23'\n",
       "\\item '24'\n",
       "\\item '25'\n",
       "\\item '26'\n",
       "\\item '27'\n",
       "\\item '28'\n",
       "\\item '30'\n",
       "\\item '31'\n",
       "\\item '33'\n",
       "\\item '34'\n",
       "\\item '35'\n",
       "\\item '36'\n",
       "\\item '37'\n",
       "\\item '38'\n",
       "\\item '40'\n",
       "\\item '50'\n",
       "\\item '60'\n",
       "\\item '70'\n",
       "\\item '80'\n",
       "\\item '85'\n",
       "\\item '99'\n",
       "\\end{enumerate*}\n"
      ],
      "text/markdown": [
       "1. <span style=white-space:pre-wrap>'  '</span>\n",
       "2. '00'\n",
       "3. '05'\n",
       "4. '10'\n",
       "5. '11'\n",
       "6. '13'\n",
       "7. '14'\n",
       "8. '15'\n",
       "9. '16'\n",
       "10. '17'\n",
       "11. '18'\n",
       "12. '20'\n",
       "13. '21'\n",
       "14. '23'\n",
       "15. '24'\n",
       "16. '25'\n",
       "17. '26'\n",
       "18. '27'\n",
       "19. '28'\n",
       "20. '30'\n",
       "21. '31'\n",
       "22. '33'\n",
       "23. '34'\n",
       "24. '35'\n",
       "25. '36'\n",
       "26. '37'\n",
       "27. '38'\n",
       "28. '40'\n",
       "29. '50'\n",
       "30. '60'\n",
       "31. '70'\n",
       "32. '80'\n",
       "33. '85'\n",
       "34. '99'\n",
       "\n",
       "\n"
      ],
      "text/plain": [
       " [1] \"  \" \"00\" \"05\" \"10\" \"11\" \"13\" \"14\" \"15\" \"16\" \"17\" \"18\" \"20\" \"21\" \"23\" \"24\"\n",
       "[16] \"25\" \"26\" \"27\" \"28\" \"30\" \"31\" \"33\" \"34\" \"35\" \"36\" \"37\" \"38\" \"40\" \"50\" \"60\"\n",
       "[31] \"70\" \"80\" \"85\" \"99\""
      ]
     },
     "metadata": {},
     "output_type": "display_data"
    },
    {
     "data": {
      "text/html": [
       "'Number of factor levels: 11'"
      ],
      "text/latex": [
       "'Number of factor levels: 11'"
      ],
      "text/markdown": [
       "'Number of factor levels: 11'"
      ],
      "text/plain": [
       "[1] \"Number of factor levels: 11\""
      ]
     },
     "metadata": {},
     "output_type": "display_data"
    },
    {
     "data": {
      "text/plain": [
       "\n",
       " FALSE   TRUE \n",
       "173537  64920 "
      ]
     },
     "metadata": {},
     "output_type": "display_data"
    }
   ],
   "source": [
    "# Extension of Tumor\n",
    "# Allowable values = 00-99.\n",
    "# Recode child nodes to parent nodes according to this source\n",
    "# Page 120 of https://seer.cancer.gov/archive/manuals/EOD10Dig.pub.pdf\n",
    "# Checking for empty string values\n",
    "sort(unique(data_sample$EOD10_EX))\n",
    "# There are multiple 2-space values\n",
    "data_sample$EOD10_EX_num <- as.numeric(data_sample$EOD10_EX)\n",
    "data_sample <- mutate(data_sample, \n",
    "                       EOD10_EX_str = ifelse(EOD10_EX_num >= 10 & EOD10_EX_num < 20, \"10\",\n",
    "                                      ifelse(EOD10_EX_num >= 20 & EOD10_EX_num < 30, \"20\",\n",
    "                                      ifelse(EOD10_EX_num >= 30 & EOD10_EX_num < 40, \"30\",\n",
    "                                      ifelse(EOD10_EX_num == 0, \"00\", \n",
    "                                      ifelse(EOD10_EX_num == 5, \"05\",EOD10_EX_num))))))\n",
    "data_sample$EOD10_EX <- data_sample$EOD10_EX_str\n",
    "data_sample$EOD10_EX[data_sample$EOD10_EX %in% c(99)]<-NA\n",
    "data_sample$EOD10_EX<-as.factor(data_sample$EOD10_EX)\n",
    "EOD10_EXlev <- nlevels(data_sample$EOD10_EX)\n",
    "paste0(\"Number of factor levels: \",EOD10_EXlev)\n",
    "table(is.na(data_sample$EOD10_EX))"
   ]
  },
  {
   "cell_type": "code",
   "execution_count": 22,
   "metadata": {
    "collapsed": false
   },
   "outputs": [
    {
     "data": {
      "text/html": [
       "<ol class=list-inline>\n",
       "\t<li>' '</li>\n",
       "\t<li>'0'</li>\n",
       "\t<li>'1'</li>\n",
       "\t<li>'2'</li>\n",
       "\t<li>'3'</li>\n",
       "\t<li>'4'</li>\n",
       "\t<li>'5'</li>\n",
       "\t<li>'6'</li>\n",
       "\t<li>'7'</li>\n",
       "\t<li>'8'</li>\n",
       "\t<li>'9'</li>\n",
       "</ol>\n"
      ],
      "text/latex": [
       "\\begin{enumerate*}\n",
       "\\item ' '\n",
       "\\item '0'\n",
       "\\item '1'\n",
       "\\item '2'\n",
       "\\item '3'\n",
       "\\item '4'\n",
       "\\item '5'\n",
       "\\item '6'\n",
       "\\item '7'\n",
       "\\item '8'\n",
       "\\item '9'\n",
       "\\end{enumerate*}\n"
      ],
      "text/markdown": [
       "1. ' '\n",
       "2. '0'\n",
       "3. '1'\n",
       "4. '2'\n",
       "5. '3'\n",
       "6. '4'\n",
       "7. '5'\n",
       "8. '6'\n",
       "9. '7'\n",
       "10. '8'\n",
       "11. '9'\n",
       "\n",
       "\n"
      ],
      "text/plain": [
       " [1] \" \" \"0\" \"1\" \"2\" \"3\" \"4\" \"5\" \"6\" \"7\" \"8\" \"9\""
      ]
     },
     "metadata": {},
     "output_type": "display_data"
    },
    {
     "data": {
      "text/html": [
       "'Number of factor levels: 9'"
      ],
      "text/latex": [
       "'Number of factor levels: 9'"
      ],
      "text/markdown": [
       "'Number of factor levels: 9'"
      ],
      "text/plain": [
       "[1] \"Number of factor levels: 9\""
      ]
     },
     "metadata": {},
     "output_type": "display_data"
    },
    {
     "data": {
      "text/plain": [
       "\n",
       " FALSE   TRUE \n",
       "164746  73711 "
      ]
     },
     "metadata": {},
     "output_type": "display_data"
    }
   ],
   "source": [
    "# Lymph node involvement\n",
    "# Checking for empty string values\n",
    "# Allowable values = 0-9.\n",
    "# 0 No lymph node involvement\n",
    "# 9 UNKNOWN; not stated\n",
    "sort(unique(data_sample$EOD10_ND))\n",
    "data_sample$EOD10_ND[data_sample$EOD10_ND %in% c(9,' ')]<-NA\n",
    "data_sample$EOD10_ND<-as.factor(data_sample$EOD10_ND)\n",
    "EOD10_NDlev <- nlevels(data_sample$EOD10_ND)\n",
    "paste0(\"Number of factor levels: \",EOD10_NDlev)\n",
    "table(is.na(data_sample$EOD10_ND))"
   ]
  },
  {
   "cell_type": "code",
   "execution_count": 23,
   "metadata": {
    "collapsed": false
   },
   "outputs": [
    {
     "data": {
      "text/plain": [
       "\n",
       "         00    01    02    03    05    07    09    10    18    20    28    30 \n",
       "81861  3014   321  2103     1     9     3  6820 17186    63 30721    90   535 \n",
       "   38    40    48    50    58    60    68    70    78    80    88    90    98 \n",
       "   71  4736  1134 55235  5483   410    14    16     2   388     3 28232     6 "
      ]
     },
     "metadata": {},
     "output_type": "display_data"
    }
   ],
   "source": [
    "# Site Specific Surgery Code....priotize SURGPRIF\n",
    "table(data_sample$SS_SURG)\n",
    "# Considering https://seer.cancer.gov/seerstat/variables/seer/surgery/\n",
    "# Code \tDescription\n",
    "# 00 \tNo surgical procedure\n",
    "# 09 \tUnknown if surgery done\n",
    "# 90 \tSurgery, NOS\n",
    "# See other code definitions here: https://seer.cancer.gov/archive/manuals/historic/AppendD.pdf\n"
   ]
  },
  {
   "cell_type": "code",
   "execution_count": 24,
   "metadata": {
    "collapsed": true
   },
   "outputs": [],
   "source": [
    "# SURGPRIF - Surgery Primary Syte\n",
    "# Code Description\n",
    "# 00 None; no surgical procedure of primary site; diagnosed at\n",
    "# autopsy only\n",
    "# 10-19 Site-specific codes. Tumor destruction; no pathologic\n",
    "# specimen or unknown whether there is a pathologic\n",
    "# specimen\n",
    "# 20-80 Site-specific codes. Resection; pathologic specimen\n",
    "# 90 Surgery, NOS. A surgical procedure to the primary site\n",
    "# was done, but no information on the type of surgical\n",
    "# procedure is provided.\n",
    "# 98 Special codes for hematopoietic, reticuloendothelial,\n",
    "# immunoproliferative, myeloproliferative diseases; illdefined\n",
    "# sites; and unknown primaries (See site-specific\n",
    "#                               codes for the sites and histologies), except death\n",
    "# certificate only\n",
    "# 99 Unknown if surgery performed; death certificate only\n",
    "# See detailed code descriptions here: https://seer.cancer.gov/archive/manuals/AppendC.pdf\n"
   ]
  },
  {
   "cell_type": "code",
   "execution_count": 25,
   "metadata": {
    "collapsed": false
   },
   "outputs": [
    {
     "data": {
      "text/html": [
       "<ol class=list-inline>\n",
       "\t<li>'0'</li>\n",
       "\t<li>'1'</li>\n",
       "\t<li>'2'</li>\n",
       "\t<li>'3'</li>\n",
       "\t<li>'4'</li>\n",
       "\t<li>'5'</li>\n",
       "\t<li>'6'</li>\n",
       "\t<li>'7'</li>\n",
       "\t<li>'8'</li>\n",
       "\t<li>'9'</li>\n",
       "</ol>\n"
      ],
      "text/latex": [
       "\\begin{enumerate*}\n",
       "\\item '0'\n",
       "\\item '1'\n",
       "\\item '2'\n",
       "\\item '3'\n",
       "\\item '4'\n",
       "\\item '5'\n",
       "\\item '6'\n",
       "\\item '7'\n",
       "\\item '8'\n",
       "\\item '9'\n",
       "\\end{enumerate*}\n"
      ],
      "text/markdown": [
       "1. '0'\n",
       "2. '1'\n",
       "3. '2'\n",
       "4. '3'\n",
       "5. '4'\n",
       "6. '5'\n",
       "7. '6'\n",
       "8. '7'\n",
       "9. '8'\n",
       "10. '9'\n",
       "\n",
       "\n"
      ],
      "text/plain": [
       " [1] \"0\" \"1\" \"2\" \"3\" \"4\" \"5\" \"6\" \"7\" \"8\" \"9\""
      ]
     },
     "metadata": {},
     "output_type": "display_data"
    },
    {
     "data": {
      "text/html": [
       "'Number of factor levels: 9'"
      ],
      "text/latex": [
       "'Number of factor levels: 9'"
      ],
      "text/markdown": [
       "'Number of factor levels: 9'"
      ],
      "text/plain": [
       "[1] \"Number of factor levels: 9\""
      ]
     },
     "metadata": {},
     "output_type": "display_data"
    },
    {
     "data": {
      "text/plain": [
       "\n",
       " FALSE   TRUE \n",
       "237918    539 "
      ]
     },
     "metadata": {},
     "output_type": "display_data"
    }
   ],
   "source": [
    "# Radiation\n",
    "# Code  Description\n",
    "# 0  None; diagnosed at autopsy\n",
    "# 1  Beam radiation\n",
    "# 2  Radioactive implants\n",
    "# 3  Radioisotopes\n",
    "# 4  Combination of 1 with 2 or 3\n",
    "# 5  Radiation, NOS - method or source not specified\n",
    "# 6  Other radiation (1973-1987 cases only)\n",
    "# 7  Patient or patient's guardian refused radiation therapy\n",
    "# 8  Radiation recommended, unknown if administered\n",
    "# 9  Unknown if radiation administered\n",
    "\n",
    "# Checking for empty string values\n",
    "sort(unique(data_sample$RADIATN))\n",
    "data_sample$RADIATN[data_sample$RADIATN %in% c(9)]<-NA\n",
    "data_sample$RADIATN<-as.factor((data_sample$RADIATN))\n",
    "RADIATNlev <- nlevels(data_sample$RADIATN)\n",
    "paste0(\"Number of factor levels: \",RADIATNlev)\n",
    "table(is.na(data_sample$RADIATN))"
   ]
  },
  {
   "cell_type": "code",
   "execution_count": 26,
   "metadata": {
    "collapsed": false
   },
   "outputs": [
    {
     "data": {
      "text/html": [
       "<ol class=list-inline>\n",
       "\t<li><span style=white-space:pre-wrap>'  '</span></li>\n",
       "\t<li>'00'</li>\n",
       "\t<li>'10'</li>\n",
       "\t<li>'32'</li>\n",
       "\t<li>'33'</li>\n",
       "\t<li>'51'</li>\n",
       "\t<li>'52'</li>\n",
       "\t<li>'53'</li>\n",
       "\t<li>'54'</li>\n",
       "\t<li>'70'</li>\n",
       "\t<li>'88'</li>\n",
       "\t<li>'99'</li>\n",
       "</ol>\n"
      ],
      "text/latex": [
       "\\begin{enumerate*}\n",
       "\\item '  '\n",
       "\\item '00'\n",
       "\\item '10'\n",
       "\\item '32'\n",
       "\\item '33'\n",
       "\\item '51'\n",
       "\\item '52'\n",
       "\\item '53'\n",
       "\\item '54'\n",
       "\\item '70'\n",
       "\\item '88'\n",
       "\\item '99'\n",
       "\\end{enumerate*}\n"
      ],
      "text/markdown": [
       "1. <span style=white-space:pre-wrap>'  '</span>\n",
       "2. '00'\n",
       "3. '10'\n",
       "4. '32'\n",
       "5. '33'\n",
       "6. '51'\n",
       "7. '52'\n",
       "8. '53'\n",
       "9. '54'\n",
       "10. '70'\n",
       "11. '88'\n",
       "12. '99'\n",
       "\n",
       "\n"
      ],
      "text/plain": [
       " [1] \"  \" \"00\" \"10\" \"32\" \"33\" \"51\" \"52\" \"53\" \"54\" \"70\" \"88\" \"99\""
      ]
     },
     "metadata": {},
     "output_type": "display_data"
    },
    {
     "data": {
      "text/html": [
       "'Number of factor levels: 9'"
      ],
      "text/latex": [
       "'Number of factor levels: 9'"
      ],
      "text/markdown": [
       "'Number of factor levels: 9'"
      ],
      "text/plain": [
       "[1] \"Number of factor levels: 9\""
      ]
     },
     "metadata": {},
     "output_type": "display_data"
    },
    {
     "data": {
      "text/plain": [
       "\n",
       " FALSE   TRUE \n",
       "163157  75300 "
      ]
     },
     "metadata": {},
     "output_type": "display_data"
    }
   ],
   "source": [
    "# Stage of Cancer\n",
    "# Code Description\n",
    "# 88 N/A\n",
    "# 90 OCCULT\n",
    "# 99 UNK Stage\n",
    "# Checking for empty string values\n",
    "sort(unique(data_sample$ADJAJCCSTG))\n",
    "# There are values that have 2 blank spaces (not 1)\n",
    "data_sample$ADJAJCCSTG[data_sample$ADJAJCCSTG %in% c(88,'  ',99)]<-NA\n",
    "data_sample$ADJAJCCSTG<-as.factor(data_sample$ADJAJCCSTG)\n",
    "ADJAJCCSTGlev <- nlevels(data_sample$ADJAJCCSTG)\n",
    "paste0(\"Number of factor levels: \",ADJAJCCSTGlev) \n",
    "table(is.na(data_sample$ADJAJCCSTG))"
   ]
  },
  {
   "cell_type": "code",
   "execution_count": 27,
   "metadata": {
    "collapsed": true
   },
   "outputs": [],
   "source": [
    "# save this version of data_sample as clean_data_sample if needed to load later\n",
    "clean_data_sample <- data_sample\n",
    "save(clean_data_sample, file = \"clean_data_sample.rdata\")"
   ]
  },
  {
   "cell_type": "code",
   "execution_count": 28,
   "metadata": {
    "collapsed": false
   },
   "outputs": [
    {
     "name": "stdout",
     "output_type": "stream",
     "text": [
      "'data.frame':\t60 obs. of  2 variables:\n",
      " $ CODE    : chr  \"00\" \"01\" \"02\" \"03\" ...\n",
      " $ SURGCODE: chr  \"00\" \"00\" \"00\" \"00\" ...\n"
     ]
    }
   ],
   "source": [
    "load(\"clean_data_sample.rdata\")\n",
    "\n",
    "# data_sample <- clean_data_sample\n",
    "\n",
    "# Recode SS_SURG and SURGPRIF to a common Site-Specific Surgery Code\n",
    "ss_surg_surgprif_map <- read.csv(\"ss_surg_surgprif_map.csv\", colClasses=c(\"character\",\"character\"))\n",
    "str(ss_surg_surgprif_map)\n",
    "\n",
    "data_sample <- merge(data_sample, ss_surg_surgprif_map, by.x = \"SS_SURG\", by.y = \"CODE\",\n",
    "                     all.x = TRUE)\n",
    "data_sample <- merge(data_sample, ss_surg_surgprif_map, by.x = \"SURGPRIF\", by.y = \"CODE\",\n",
    "                     all.x = TRUE)\n",
    "# recoding into one var\n",
    "data_sample <- mutate(data_sample, SURGCODE = ifelse(SURGCODE.x==\"\", SURGCODE.y, SURGCODE.x))\n",
    "# recoding \"Unknown\" codes into NAs\n",
    "# 99 - Uknown if surgery was done\n",
    "data_sample$SURGCODE[data_sample$SURGCODE %in% c(\"99\")] <- NA\n",
    "\n",
    "data_sample$SURGCODE <- as.factor(data_sample$SURGCODE)\n",
    "SURGCODElev <- nlevels(data_sample$SURGCODE)"
   ]
  },
  {
   "cell_type": "code",
   "execution_count": 29,
   "metadata": {
    "collapsed": false
   },
   "outputs": [
    {
     "data": {
      "text/html": [
       "'Number of rows in Dataset with NAs included'"
      ],
      "text/latex": [
       "'Number of rows in Dataset with NAs included'"
      ],
      "text/markdown": [
       "'Number of rows in Dataset with NAs included'"
      ],
      "text/plain": [
       "[1] \"Number of rows in Dataset with NAs included\""
      ]
     },
     "metadata": {},
     "output_type": "display_data"
    },
    {
     "data": {
      "text/html": [
       "238457"
      ],
      "text/latex": [
       "238457"
      ],
      "text/markdown": [
       "238457"
      ],
      "text/plain": [
       "[1] 238457"
      ]
     },
     "metadata": {},
     "output_type": "display_data"
    }
   ],
   "source": [
    "# Dataset with NAs included\n",
    "full_surgcode_data_sample <- data_sample[,c(\n",
    "  \"MAR_STAT\"     ,\n",
    "  \"RACE1V\"       ,\n",
    "  \"AGE_DX\"       ,\n",
    "  \"PRIMSITE\"     ,\n",
    "  \"GRADE\"        ,\n",
    "  \"EOD10_SZ\"     ,\n",
    "  \"EOD10_EX\"     , \n",
    "  \"EOD10_ND\"     ,\n",
    "  \"EOD10_PN\"     ,\n",
    "  \"PN_PRESENT\"   ,\n",
    "  \"EOD10_NE\"     , \n",
    "  \"RADIATN\"      , \n",
    "  \"ADJAJCCSTG\"   ,  \n",
    "  \"SEQ_NUM\"      ,\n",
    "  \"HISTO3V\"      ,\n",
    "  \"BEHO3V\"       ,\n",
    "  \"SURGCODE\"      ,\n",
    "  \"survived\"\n",
    ")]\n",
    "paste0(\"Number of rows in Dataset with NAs included\")\n",
    "nrow(full_surgcode_data_sample)\n",
    "save(full_surgcode_data_sample, file = \"full_surgcode_data_sample.rdata\")"
   ]
  },
  {
   "cell_type": "code",
   "execution_count": 30,
   "metadata": {
    "collapsed": false
   },
   "outputs": [
    {
     "data": {
      "text/html": [
       "'Number of rows in Dataset with complete cases'"
      ],
      "text/latex": [
       "'Number of rows in Dataset with complete cases'"
      ],
      "text/markdown": [
       "'Number of rows in Dataset with complete cases'"
      ],
      "text/plain": [
       "[1] \"Number of rows in Dataset with complete cases\""
      ]
     },
     "metadata": {},
     "output_type": "display_data"
    },
    {
     "data": {
      "text/html": [
       "92518"
      ],
      "text/latex": [
       "92518"
      ],
      "text/markdown": [
       "92518"
      ],
      "text/plain": [
       "[1] 92518"
      ]
     },
     "metadata": {},
     "output_type": "display_data"
    }
   ],
   "source": [
    "#####################################################################################\n",
    "# Dataset with complete cases (no NAs included)\n",
    "clean_surgcode_data_sample<-na.omit(data_sample[,c(\n",
    "  \"MAR_STAT\"     ,\n",
    "  \"RACE1V\"       ,\n",
    "  \"AGE_DX\"       ,\n",
    "  \"PRIMSITE\"     ,\n",
    "  \"GRADE\"        ,\n",
    "  \"EOD10_SZ\"     ,\n",
    "  \"EOD10_EX\"     , \n",
    "  \"EOD10_ND\"     ,\n",
    "  \"EOD10_PN\"     ,\n",
    "  \"PN_PRESENT\"   ,\n",
    "  \"EOD10_NE\"     , \n",
    "  \"RADIATN\"      , \n",
    "  \"ADJAJCCSTG\"   ,  \n",
    "  \"SEQ_NUM\"      ,\n",
    "  \"HISTO3V\"      ,\n",
    "  \"BEHO3V\"       ,\n",
    "  \"SURGCODE\"      ,\n",
    "  \"survived\"\n",
    ")])\n",
    "\n",
    "paste0(\"Number of rows in Dataset with complete cases\")\n",
    "nrow(clean_surgcode_data_sample)\n",
    "save(clean_surgcode_data_sample, file = \"clean_surgcode_data_sample.rdata\")"
   ]
  },
  {
   "cell_type": "code",
   "execution_count": 31,
   "metadata": {
    "collapsed": false
   },
   "outputs": [
    {
     "data": {
      "text/html": [
       "<table>\n",
       "<thead><tr><th scope=col>Nominal_Variable_Name</th><th scope=col>Number_of_Distinct_Values</th></tr></thead>\n",
       "<tbody>\n",
       "\t<tr><td>Race                      </td><td>12                        </td></tr>\n",
       "\t<tr><td>Marital status            </td><td> 5                        </td></tr>\n",
       "\t<tr><td>Primary site code         </td><td> 9                        </td></tr>\n",
       "\t<tr><td>Histologic type           </td><td> 8                        </td></tr>\n",
       "\t<tr><td>Behavior code             </td><td> 2                        </td></tr>\n",
       "\t<tr><td>Grade                     </td><td> 4                        </td></tr>\n",
       "\t<tr><td>Extension of tumor        </td><td>11                        </td></tr>\n",
       "\t<tr><td>Lymph node involvement    </td><td> 9                        </td></tr>\n",
       "\t<tr><td>Presense of positive nodes</td><td> 2                        </td></tr>\n",
       "\t<tr><td>Site specific surgery code</td><td> 8                        </td></tr>\n",
       "\t<tr><td>Radiation                 </td><td> 9                        </td></tr>\n",
       "\t<tr><td>Stage of Cancer           </td><td> 9                        </td></tr>\n",
       "</tbody>\n",
       "</table>\n"
      ],
      "text/latex": [
       "\\begin{tabular}{r|ll}\n",
       " Nominal\\_Variable\\_Name & Number\\_of\\_Distinct\\_Values\\\\\n",
       "\\hline\n",
       "\t Race                       & 12                        \\\\\n",
       "\t Marital status             &  5                        \\\\\n",
       "\t Primary site code          &  9                        \\\\\n",
       "\t Histologic type            &  8                        \\\\\n",
       "\t Behavior code              &  2                        \\\\\n",
       "\t Grade                      &  4                        \\\\\n",
       "\t Extension of tumor         & 11                        \\\\\n",
       "\t Lymph node involvement     &  9                        \\\\\n",
       "\t Presense of positive nodes &  2                        \\\\\n",
       "\t Site specific surgery code &  8                        \\\\\n",
       "\t Radiation                  &  9                        \\\\\n",
       "\t Stage of Cancer            &  9                        \\\\\n",
       "\\end{tabular}\n"
      ],
      "text/markdown": [
       "\n",
       "Nominal_Variable_Name | Number_of_Distinct_Values | \n",
       "|---|---|---|---|---|---|---|---|---|---|---|---|\n",
       "| Race                       | 12                         | \n",
       "| Marital status             |  5                         | \n",
       "| Primary site code          |  9                         | \n",
       "| Histologic type            |  8                         | \n",
       "| Behavior code              |  2                         | \n",
       "| Grade                      |  4                         | \n",
       "| Extension of tumor         | 11                         | \n",
       "| Lymph node involvement     |  9                         | \n",
       "| Presense of positive nodes |  2                         | \n",
       "| Site specific surgery code |  8                         | \n",
       "| Radiation                  |  9                         | \n",
       "| Stage of Cancer            |  9                         | \n",
       "\n",
       "\n"
      ],
      "text/plain": [
       "   Nominal_Variable_Name      Number_of_Distinct_Values\n",
       "1  Race                       12                       \n",
       "2  Marital status              5                       \n",
       "3  Primary site code           9                       \n",
       "4  Histologic type             8                       \n",
       "5  Behavior code               2                       \n",
       "6  Grade                       4                       \n",
       "7  Extension of tumor         11                       \n",
       "8  Lymph node involvement      9                       \n",
       "9  Presense of positive nodes  2                       \n",
       "10 Site specific surgery code  8                       \n",
       "11 Radiation                   9                       \n",
       "12 Stage of Cancer             9                       "
      ]
     },
     "metadata": {},
     "output_type": "display_data"
    },
    {
     "data": {
      "text/html": [
       "<table>\n",
       "<thead><tr><th scope=col>Numeric_Variable_Name</th><th scope=col>Mean</th><th scope=col>StdDev</th><th scope=col>Range</th></tr></thead>\n",
       "<tbody>\n",
       "\t<tr><td>Age                 </td><td>55.80               </td><td>13.13               </td><td>10-106              </td></tr>\n",
       "\t<tr><td>Tumor Size          </td><td>20.00               </td><td>18.63               </td><td>0-200               </td></tr>\n",
       "\t<tr><td>No of positive nodes</td><td> 1.47               </td><td> 3.81               </td><td>0-75                </td></tr>\n",
       "\t<tr><td>Number of nodes     </td><td> 9.79               </td><td> 8.79               </td><td>0-90                </td></tr>\n",
       "\t<tr><td>Number of primaries </td><td> 1.13               </td><td> 0.37               </td><td>1-6                 </td></tr>\n",
       "</tbody>\n",
       "</table>\n"
      ],
      "text/latex": [
       "\\begin{tabular}{r|llll}\n",
       " Numeric\\_Variable\\_Name & Mean & StdDev & Range\\\\\n",
       "\\hline\n",
       "\t Age                  & 55.80                & 13.13                & 10-106              \\\\\n",
       "\t Tumor Size           & 20.00                & 18.63                & 0-200               \\\\\n",
       "\t No of positive nodes &  1.47                &  3.81                & 0-75                \\\\\n",
       "\t Number of nodes      &  9.79                &  8.79                & 0-90                \\\\\n",
       "\t Number of primaries  &  1.13                &  0.37                & 1-6                 \\\\\n",
       "\\end{tabular}\n"
      ],
      "text/markdown": [
       "\n",
       "Numeric_Variable_Name | Mean | StdDev | Range | \n",
       "|---|---|---|---|---|\n",
       "| Age                  | 55.80                | 13.13                | 10-106               | \n",
       "| Tumor Size           | 20.00                | 18.63                | 0-200                | \n",
       "| No of positive nodes |  1.47                |  3.81                | 0-75                 | \n",
       "| Number of nodes      |  9.79                |  8.79                | 0-90                 | \n",
       "| Number of primaries  |  1.13                |  0.37                | 1-6                  | \n",
       "\n",
       "\n"
      ],
      "text/plain": [
       "  Numeric_Variable_Name Mean  StdDev Range \n",
       "1 Age                   55.80 13.13  10-106\n",
       "2 Tumor Size            20.00 18.63  0-200 \n",
       "3 No of positive nodes   1.47  3.81  0-75  \n",
       "4 Number of nodes        9.79  8.79  0-90  \n",
       "5 Number of primaries    1.13  0.37  1-6   "
      ]
     },
     "metadata": {},
     "output_type": "display_data"
    }
   ],
   "source": [
    "# Table 1 - describing the full dataset\n",
    "data.frame(Nominal_Variable_Name = c(\"Race\", \"Marital status\", \"Primary site code\", \"Histologic type\", \n",
    "                                    \"Behavior code\", \"Grade\", \"Extension of tumor\", \"Lymph node involvement\",\n",
    "                                    \"Presense of positive nodes\", \"Site specific surgery code\", \"Radiation\", \n",
    "                                     \"Stage of Cancer\"),\n",
    "          Number_of_Distinct_Values = c(RACE1Vlev, MAR_STATlev, PRIMSITElev,HISTO3Vlev, BEHO3Vlev,\n",
    "                                       GRADElev, EOD10_EXlev, EOD10_NDlev,PN_PRESENTlev, \n",
    "                                        SURGCODElev,RADIATNlev, ADJAJCCSTGlev))\n",
    "\n",
    "data.frame(Numeric_Variable_Name = c(\"Age\", \"Tumor Size\", \"No of positive nodes\", \"Number of nodes\", \"Number of primaries\"),\n",
    "           Mean = c(AGE_DXmean, EOD10_SZmean, EOD10_PNmean, EOD10_NEmean, SEQ_NUMmean),\n",
    "           StdDev = c(AGE_DXsd, EOD10_SZsd, EOD10_PNsd, EOD10_NEsd, SEQ_NUMsd),\n",
    "           Range = c(paste(AGE_DXrange, collapse = \"-\"), paste(EOD10_SZrange, collapse = \"-\"),\n",
    "                    paste(EOD10_PNrange, collapse = \"-\"),paste(EOD10_NErange, collapse=\"-\"),\n",
    "                    paste(SEQ_NUMrange, collapse=\"-\"))\n",
    "          )"
   ]
  },
  {
   "cell_type": "code",
   "execution_count": null,
   "metadata": {
    "collapsed": true
   },
   "outputs": [],
   "source": []
  }
 ],
 "metadata": {
  "kernelspec": {
   "display_name": "R",
   "language": "R",
   "name": "ir"
  },
  "language_info": {
   "codemirror_mode": "r",
   "file_extension": ".r",
   "mimetype": "text/x-r-source",
   "name": "R",
   "pygments_lexer": "r",
   "version": "3.3.2"
  }
 },
 "nbformat": 4,
 "nbformat_minor": 2
}
